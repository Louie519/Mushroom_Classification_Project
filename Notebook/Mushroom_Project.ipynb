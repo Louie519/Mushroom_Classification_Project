{
 "cells": [
  {
   "cell_type": "code",
   "execution_count": 1,
   "id": "958cb0ab",
   "metadata": {},
   "outputs": [],
   "source": [
    "from IPython.core.interactiveshell import InteractiveShell\n",
    "InteractiveShell.ast_node_interactivity = \"all\"\n",
    "from sklearn.preprocessing import LabelEncoder, StandardScaler\n",
    "\n",
    "%matplotlib inline\n",
    "import pandas as pd\n",
    "import sklearn as sk\n",
    "import numpy as np\n",
    "import matplotlib.pyplot as plt\n",
    "import seaborn as sns"
   ]
  },
  {
   "cell_type": "code",
   "execution_count": 2,
   "id": "4b3366d8",
   "metadata": {},
   "outputs": [],
   "source": [
    "df =pd.read_csv('mushrooms.csv', low_memory = False)"
   ]
  },
  {
   "cell_type": "markdown",
   "id": "8af3b398",
   "metadata": {},
   "source": [
    "## Value Coding Dictionary:\n",
    "\n",
    "Attribute Information: (classes: edible=e, poisonous=p)\n",
    "\n",
    "cap-shape: bell=b,conical=c,convex=x,flat=f, knobbed=k,sunken=s\n",
    "\n",
    "cap-surface: fibrous=f,grooves=g,scaly=y,smooth=s\n",
    "\n",
    "cap-color: brown=n,buff=b,cinnamon=c,gray=g,green=r,pink=p,purple=u,red=e,white=w,yellow=y\n",
    "\n",
    "bruises: bruises=t,no=f\n",
    "\n",
    "odor: almond=a,anise=l,creosote=c,fishy=y,foul=f,musty=m,none=n,pungent=p,spicy=s\n",
    "\n",
    "gill-attachment: attached=a,descending=d,free=f,notched=n\n",
    "\n",
    "gill-spacing: close=c,crowded=w,distant=d\n",
    "\n",
    "gill-size: broad=b,narrow=n\n",
    "\n",
    "gill-color: black=k,brown=n,buff=b,chocolate=h,gray=g, green=r,orange=o,pink=p,purple=u,red=e,white=w,yellow=y\n",
    "\n",
    "stalk-shape: enlarging=e,tapering=t\n",
    "\n",
    "stalk-root: bulbous=b,club=c,cup=u,equal=e,rhizomorphs=z,rooted=r,missing=?\n",
    "\n",
    "stalk-surface-above-ring: fibrous=f,scaly=y,silky=k,smooth=s\n",
    "\n",
    "stalk-surface-below-ring: fibrous=f,scaly=y,silky=k,smooth=s\n",
    "\n",
    "stalk-color-above-ring: brown=n,buff=b,cinnamon=c,gray=g,orange=o,pink=p,red=e,white=w,yellow=y\n",
    "\n",
    "stalk-color-below-ring: brown=n,buff=b,cinnamon=c,gray=g,orange=o,pink=p,red=e,white=w,yellow=y\n",
    "\n",
    "veil-type: partial=p,universal=u\n",
    "\n",
    "veil-color: brown=n,orange=o,white=w,yellow=y\n",
    "\n",
    "ring-number: none=n,one=o,two=t\n",
    "\n",
    "ring-type: cobwebby=c,evanescent=e,flaring=f,large=l,none=n,pendant=p,sheathing=s,zone=z\n",
    "\n",
    "spore-print-color: black=k,brown=n,buff=b,chocolate=h,green=r,orange=o,purple=u,white=w,yellow=y\n",
    "\n",
    "population: abundant=a,clustered=c,numerous=n,scattered=s,several=v,solitary=y\n",
    "\n",
    "habitat: grasses=g,leaves=l,meadows=m,paths=p,urban=u,waste=w,woods=d"
   ]
  },
  {
   "cell_type": "markdown",
   "id": "4a077179",
   "metadata": {},
   "source": [
    "## Pre-Presentation Section"
   ]
  },
  {
   "cell_type": "code",
   "execution_count": 3,
   "id": "7ee3ede9",
   "metadata": {},
   "outputs": [
    {
     "data": {
      "text/plain": [
       "Index(['class', 'cap-shape', 'cap-surface', 'cap-color', 'bruises', 'odor',\n",
       "       'gill-attachment', 'gill-spacing', 'gill-size', 'gill-color',\n",
       "       'stalk-shape', 'stalk-root', 'stalk-surface-above-ring',\n",
       "       'stalk-surface-below-ring', 'stalk-color-above-ring',\n",
       "       'stalk-color-below-ring', 'veil-type', 'veil-color', 'ring-number',\n",
       "       'ring-type', 'spore-print-color', 'population', 'habitat'],\n",
       "      dtype='object')"
      ]
     },
     "execution_count": 3,
     "metadata": {},
     "output_type": "execute_result"
    }
   ],
   "source": [
    "df.columns"
   ]
  },
  {
   "cell_type": "code",
   "execution_count": 4,
   "id": "b0072a8f",
   "metadata": {
    "scrolled": true
   },
   "outputs": [
    {
     "data": {
      "text/html": [
       "<div>\n",
       "<style scoped>\n",
       "    .dataframe tbody tr th:only-of-type {\n",
       "        vertical-align: middle;\n",
       "    }\n",
       "\n",
       "    .dataframe tbody tr th {\n",
       "        vertical-align: top;\n",
       "    }\n",
       "\n",
       "    .dataframe thead th {\n",
       "        text-align: right;\n",
       "    }\n",
       "</style>\n",
       "<table border=\"1\" class=\"dataframe\">\n",
       "  <thead>\n",
       "    <tr style=\"text-align: right;\">\n",
       "      <th></th>\n",
       "      <th>class</th>\n",
       "      <th>cap-shape</th>\n",
       "      <th>cap-surface</th>\n",
       "      <th>cap-color</th>\n",
       "      <th>bruises</th>\n",
       "      <th>odor</th>\n",
       "      <th>gill-attachment</th>\n",
       "      <th>gill-spacing</th>\n",
       "      <th>gill-size</th>\n",
       "      <th>gill-color</th>\n",
       "      <th>...</th>\n",
       "      <th>stalk-surface-below-ring</th>\n",
       "      <th>stalk-color-above-ring</th>\n",
       "      <th>stalk-color-below-ring</th>\n",
       "      <th>veil-type</th>\n",
       "      <th>veil-color</th>\n",
       "      <th>ring-number</th>\n",
       "      <th>ring-type</th>\n",
       "      <th>spore-print-color</th>\n",
       "      <th>population</th>\n",
       "      <th>habitat</th>\n",
       "    </tr>\n",
       "  </thead>\n",
       "  <tbody>\n",
       "    <tr>\n",
       "      <th>0</th>\n",
       "      <td>p</td>\n",
       "      <td>x</td>\n",
       "      <td>s</td>\n",
       "      <td>n</td>\n",
       "      <td>t</td>\n",
       "      <td>p</td>\n",
       "      <td>f</td>\n",
       "      <td>c</td>\n",
       "      <td>n</td>\n",
       "      <td>k</td>\n",
       "      <td>...</td>\n",
       "      <td>s</td>\n",
       "      <td>w</td>\n",
       "      <td>w</td>\n",
       "      <td>p</td>\n",
       "      <td>w</td>\n",
       "      <td>o</td>\n",
       "      <td>p</td>\n",
       "      <td>k</td>\n",
       "      <td>s</td>\n",
       "      <td>u</td>\n",
       "    </tr>\n",
       "    <tr>\n",
       "      <th>1</th>\n",
       "      <td>e</td>\n",
       "      <td>x</td>\n",
       "      <td>s</td>\n",
       "      <td>y</td>\n",
       "      <td>t</td>\n",
       "      <td>a</td>\n",
       "      <td>f</td>\n",
       "      <td>c</td>\n",
       "      <td>b</td>\n",
       "      <td>k</td>\n",
       "      <td>...</td>\n",
       "      <td>s</td>\n",
       "      <td>w</td>\n",
       "      <td>w</td>\n",
       "      <td>p</td>\n",
       "      <td>w</td>\n",
       "      <td>o</td>\n",
       "      <td>p</td>\n",
       "      <td>n</td>\n",
       "      <td>n</td>\n",
       "      <td>g</td>\n",
       "    </tr>\n",
       "    <tr>\n",
       "      <th>2</th>\n",
       "      <td>e</td>\n",
       "      <td>b</td>\n",
       "      <td>s</td>\n",
       "      <td>w</td>\n",
       "      <td>t</td>\n",
       "      <td>l</td>\n",
       "      <td>f</td>\n",
       "      <td>c</td>\n",
       "      <td>b</td>\n",
       "      <td>n</td>\n",
       "      <td>...</td>\n",
       "      <td>s</td>\n",
       "      <td>w</td>\n",
       "      <td>w</td>\n",
       "      <td>p</td>\n",
       "      <td>w</td>\n",
       "      <td>o</td>\n",
       "      <td>p</td>\n",
       "      <td>n</td>\n",
       "      <td>n</td>\n",
       "      <td>m</td>\n",
       "    </tr>\n",
       "    <tr>\n",
       "      <th>3</th>\n",
       "      <td>p</td>\n",
       "      <td>x</td>\n",
       "      <td>y</td>\n",
       "      <td>w</td>\n",
       "      <td>t</td>\n",
       "      <td>p</td>\n",
       "      <td>f</td>\n",
       "      <td>c</td>\n",
       "      <td>n</td>\n",
       "      <td>n</td>\n",
       "      <td>...</td>\n",
       "      <td>s</td>\n",
       "      <td>w</td>\n",
       "      <td>w</td>\n",
       "      <td>p</td>\n",
       "      <td>w</td>\n",
       "      <td>o</td>\n",
       "      <td>p</td>\n",
       "      <td>k</td>\n",
       "      <td>s</td>\n",
       "      <td>u</td>\n",
       "    </tr>\n",
       "    <tr>\n",
       "      <th>4</th>\n",
       "      <td>e</td>\n",
       "      <td>x</td>\n",
       "      <td>s</td>\n",
       "      <td>g</td>\n",
       "      <td>f</td>\n",
       "      <td>n</td>\n",
       "      <td>f</td>\n",
       "      <td>w</td>\n",
       "      <td>b</td>\n",
       "      <td>k</td>\n",
       "      <td>...</td>\n",
       "      <td>s</td>\n",
       "      <td>w</td>\n",
       "      <td>w</td>\n",
       "      <td>p</td>\n",
       "      <td>w</td>\n",
       "      <td>o</td>\n",
       "      <td>e</td>\n",
       "      <td>n</td>\n",
       "      <td>a</td>\n",
       "      <td>g</td>\n",
       "    </tr>\n",
       "  </tbody>\n",
       "</table>\n",
       "<p>5 rows × 23 columns</p>\n",
       "</div>"
      ],
      "text/plain": [
       "  class cap-shape cap-surface cap-color bruises odor gill-attachment  \\\n",
       "0     p         x           s         n       t    p               f   \n",
       "1     e         x           s         y       t    a               f   \n",
       "2     e         b           s         w       t    l               f   \n",
       "3     p         x           y         w       t    p               f   \n",
       "4     e         x           s         g       f    n               f   \n",
       "\n",
       "  gill-spacing gill-size gill-color  ... stalk-surface-below-ring  \\\n",
       "0            c         n          k  ...                        s   \n",
       "1            c         b          k  ...                        s   \n",
       "2            c         b          n  ...                        s   \n",
       "3            c         n          n  ...                        s   \n",
       "4            w         b          k  ...                        s   \n",
       "\n",
       "  stalk-color-above-ring stalk-color-below-ring veil-type veil-color  \\\n",
       "0                      w                      w         p          w   \n",
       "1                      w                      w         p          w   \n",
       "2                      w                      w         p          w   \n",
       "3                      w                      w         p          w   \n",
       "4                      w                      w         p          w   \n",
       "\n",
       "  ring-number ring-type spore-print-color population habitat  \n",
       "0           o         p                 k          s       u  \n",
       "1           o         p                 n          n       g  \n",
       "2           o         p                 n          n       m  \n",
       "3           o         p                 k          s       u  \n",
       "4           o         e                 n          a       g  \n",
       "\n",
       "[5 rows x 23 columns]"
      ]
     },
     "execution_count": 4,
     "metadata": {},
     "output_type": "execute_result"
    }
   ],
   "source": [
    "df.head()"
   ]
  },
  {
   "cell_type": "code",
   "execution_count": 5,
   "id": "d08be527",
   "metadata": {},
   "outputs": [
    {
     "data": {
      "text/plain": [
       "class                        2\n",
       "cap-shape                    6\n",
       "cap-surface                  4\n",
       "cap-color                   10\n",
       "bruises                      2\n",
       "odor                         9\n",
       "gill-attachment              2\n",
       "gill-spacing                 2\n",
       "gill-size                    2\n",
       "gill-color                  12\n",
       "stalk-shape                  2\n",
       "stalk-root                   5\n",
       "stalk-surface-above-ring     4\n",
       "stalk-surface-below-ring     4\n",
       "stalk-color-above-ring       9\n",
       "stalk-color-below-ring       9\n",
       "veil-type                    1\n",
       "veil-color                   4\n",
       "ring-number                  3\n",
       "ring-type                    5\n",
       "spore-print-color            9\n",
       "population                   6\n",
       "habitat                      7\n",
       "dtype: int64"
      ]
     },
     "execution_count": 5,
     "metadata": {},
     "output_type": "execute_result"
    }
   ],
   "source": [
    "df.nunique()"
   ]
  },
  {
   "cell_type": "code",
   "execution_count": 6,
   "id": "e41c28c0",
   "metadata": {},
   "outputs": [
    {
     "data": {
      "text/plain": [
       "class                       0\n",
       "cap-shape                   0\n",
       "cap-surface                 0\n",
       "cap-color                   0\n",
       "bruises                     0\n",
       "odor                        0\n",
       "gill-attachment             0\n",
       "gill-spacing                0\n",
       "gill-size                   0\n",
       "gill-color                  0\n",
       "stalk-shape                 0\n",
       "stalk-root                  0\n",
       "stalk-surface-above-ring    0\n",
       "stalk-surface-below-ring    0\n",
       "stalk-color-above-ring      0\n",
       "stalk-color-below-ring      0\n",
       "veil-type                   0\n",
       "veil-color                  0\n",
       "ring-number                 0\n",
       "ring-type                   0\n",
       "spore-print-color           0\n",
       "population                  0\n",
       "habitat                     0\n",
       "dtype: int64"
      ]
     },
     "execution_count": 6,
     "metadata": {},
     "output_type": "execute_result"
    }
   ],
   "source": [
    "df.isna().sum()"
   ]
  },
  {
   "cell_type": "markdown",
   "id": "925399db",
   "metadata": {},
   "source": [
    "## Data Cleaning ##"
   ]
  },
  {
   "cell_type": "markdown",
   "id": "1d790fb9",
   "metadata": {},
   "source": [
    "We dropped veil-type because there was only one unique value"
   ]
  },
  {
   "cell_type": "code",
   "execution_count": 7,
   "id": "a14dc283",
   "metadata": {},
   "outputs": [],
   "source": [
    "df.drop(\"veil-type\",axis=1,inplace=True)"
   ]
  },
  {
   "cell_type": "markdown",
   "id": "1fd8f8e4",
   "metadata": {},
   "source": [
    "According to data dictionary we identified that \"?\" was used instead of nan to indicate missing values"
   ]
  },
  {
   "cell_type": "code",
   "execution_count": 8,
   "id": "0169419c",
   "metadata": {},
   "outputs": [],
   "source": [
    "df = df[df['stalk-root'] != '?']"
   ]
  },
  {
   "cell_type": "code",
   "execution_count": 9,
   "id": "0bcbaad4",
   "metadata": {},
   "outputs": [
    {
     "data": {
      "text/html": [
       "<div>\n",
       "<style scoped>\n",
       "    .dataframe tbody tr th:only-of-type {\n",
       "        vertical-align: middle;\n",
       "    }\n",
       "\n",
       "    .dataframe tbody tr th {\n",
       "        vertical-align: top;\n",
       "    }\n",
       "\n",
       "    .dataframe thead th {\n",
       "        text-align: right;\n",
       "    }\n",
       "</style>\n",
       "<table border=\"1\" class=\"dataframe\">\n",
       "  <thead>\n",
       "    <tr style=\"text-align: right;\">\n",
       "      <th></th>\n",
       "      <th>class</th>\n",
       "      <th>cap-shape</th>\n",
       "      <th>cap-surface</th>\n",
       "      <th>cap-color</th>\n",
       "      <th>bruises</th>\n",
       "      <th>odor</th>\n",
       "      <th>gill-attachment</th>\n",
       "      <th>gill-spacing</th>\n",
       "      <th>gill-size</th>\n",
       "      <th>gill-color</th>\n",
       "      <th>...</th>\n",
       "      <th>stalk-surface-above-ring</th>\n",
       "      <th>stalk-surface-below-ring</th>\n",
       "      <th>stalk-color-above-ring</th>\n",
       "      <th>stalk-color-below-ring</th>\n",
       "      <th>veil-color</th>\n",
       "      <th>ring-number</th>\n",
       "      <th>ring-type</th>\n",
       "      <th>spore-print-color</th>\n",
       "      <th>population</th>\n",
       "      <th>habitat</th>\n",
       "    </tr>\n",
       "  </thead>\n",
       "  <tbody>\n",
       "    <tr>\n",
       "      <th>0</th>\n",
       "      <td>p</td>\n",
       "      <td>x</td>\n",
       "      <td>s</td>\n",
       "      <td>n</td>\n",
       "      <td>t</td>\n",
       "      <td>p</td>\n",
       "      <td>f</td>\n",
       "      <td>c</td>\n",
       "      <td>n</td>\n",
       "      <td>k</td>\n",
       "      <td>...</td>\n",
       "      <td>s</td>\n",
       "      <td>s</td>\n",
       "      <td>w</td>\n",
       "      <td>w</td>\n",
       "      <td>w</td>\n",
       "      <td>o</td>\n",
       "      <td>p</td>\n",
       "      <td>k</td>\n",
       "      <td>s</td>\n",
       "      <td>u</td>\n",
       "    </tr>\n",
       "    <tr>\n",
       "      <th>1</th>\n",
       "      <td>e</td>\n",
       "      <td>x</td>\n",
       "      <td>s</td>\n",
       "      <td>y</td>\n",
       "      <td>t</td>\n",
       "      <td>a</td>\n",
       "      <td>f</td>\n",
       "      <td>c</td>\n",
       "      <td>b</td>\n",
       "      <td>k</td>\n",
       "      <td>...</td>\n",
       "      <td>s</td>\n",
       "      <td>s</td>\n",
       "      <td>w</td>\n",
       "      <td>w</td>\n",
       "      <td>w</td>\n",
       "      <td>o</td>\n",
       "      <td>p</td>\n",
       "      <td>n</td>\n",
       "      <td>n</td>\n",
       "      <td>g</td>\n",
       "    </tr>\n",
       "    <tr>\n",
       "      <th>2</th>\n",
       "      <td>e</td>\n",
       "      <td>b</td>\n",
       "      <td>s</td>\n",
       "      <td>w</td>\n",
       "      <td>t</td>\n",
       "      <td>l</td>\n",
       "      <td>f</td>\n",
       "      <td>c</td>\n",
       "      <td>b</td>\n",
       "      <td>n</td>\n",
       "      <td>...</td>\n",
       "      <td>s</td>\n",
       "      <td>s</td>\n",
       "      <td>w</td>\n",
       "      <td>w</td>\n",
       "      <td>w</td>\n",
       "      <td>o</td>\n",
       "      <td>p</td>\n",
       "      <td>n</td>\n",
       "      <td>n</td>\n",
       "      <td>m</td>\n",
       "    </tr>\n",
       "    <tr>\n",
       "      <th>3</th>\n",
       "      <td>p</td>\n",
       "      <td>x</td>\n",
       "      <td>y</td>\n",
       "      <td>w</td>\n",
       "      <td>t</td>\n",
       "      <td>p</td>\n",
       "      <td>f</td>\n",
       "      <td>c</td>\n",
       "      <td>n</td>\n",
       "      <td>n</td>\n",
       "      <td>...</td>\n",
       "      <td>s</td>\n",
       "      <td>s</td>\n",
       "      <td>w</td>\n",
       "      <td>w</td>\n",
       "      <td>w</td>\n",
       "      <td>o</td>\n",
       "      <td>p</td>\n",
       "      <td>k</td>\n",
       "      <td>s</td>\n",
       "      <td>u</td>\n",
       "    </tr>\n",
       "    <tr>\n",
       "      <th>4</th>\n",
       "      <td>e</td>\n",
       "      <td>x</td>\n",
       "      <td>s</td>\n",
       "      <td>g</td>\n",
       "      <td>f</td>\n",
       "      <td>n</td>\n",
       "      <td>f</td>\n",
       "      <td>w</td>\n",
       "      <td>b</td>\n",
       "      <td>k</td>\n",
       "      <td>...</td>\n",
       "      <td>s</td>\n",
       "      <td>s</td>\n",
       "      <td>w</td>\n",
       "      <td>w</td>\n",
       "      <td>w</td>\n",
       "      <td>o</td>\n",
       "      <td>e</td>\n",
       "      <td>n</td>\n",
       "      <td>a</td>\n",
       "      <td>g</td>\n",
       "    </tr>\n",
       "    <tr>\n",
       "      <th>...</th>\n",
       "      <td>...</td>\n",
       "      <td>...</td>\n",
       "      <td>...</td>\n",
       "      <td>...</td>\n",
       "      <td>...</td>\n",
       "      <td>...</td>\n",
       "      <td>...</td>\n",
       "      <td>...</td>\n",
       "      <td>...</td>\n",
       "      <td>...</td>\n",
       "      <td>...</td>\n",
       "      <td>...</td>\n",
       "      <td>...</td>\n",
       "      <td>...</td>\n",
       "      <td>...</td>\n",
       "      <td>...</td>\n",
       "      <td>...</td>\n",
       "      <td>...</td>\n",
       "      <td>...</td>\n",
       "      <td>...</td>\n",
       "      <td>...</td>\n",
       "    </tr>\n",
       "    <tr>\n",
       "      <th>7986</th>\n",
       "      <td>e</td>\n",
       "      <td>b</td>\n",
       "      <td>y</td>\n",
       "      <td>n</td>\n",
       "      <td>f</td>\n",
       "      <td>n</td>\n",
       "      <td>f</td>\n",
       "      <td>c</td>\n",
       "      <td>b</td>\n",
       "      <td>w</td>\n",
       "      <td>...</td>\n",
       "      <td>y</td>\n",
       "      <td>y</td>\n",
       "      <td>n</td>\n",
       "      <td>n</td>\n",
       "      <td>w</td>\n",
       "      <td>t</td>\n",
       "      <td>p</td>\n",
       "      <td>w</td>\n",
       "      <td>y</td>\n",
       "      <td>p</td>\n",
       "    </tr>\n",
       "    <tr>\n",
       "      <th>8001</th>\n",
       "      <td>e</td>\n",
       "      <td>x</td>\n",
       "      <td>y</td>\n",
       "      <td>n</td>\n",
       "      <td>f</td>\n",
       "      <td>n</td>\n",
       "      <td>f</td>\n",
       "      <td>c</td>\n",
       "      <td>b</td>\n",
       "      <td>w</td>\n",
       "      <td>...</td>\n",
       "      <td>y</td>\n",
       "      <td>y</td>\n",
       "      <td>n</td>\n",
       "      <td>n</td>\n",
       "      <td>w</td>\n",
       "      <td>t</td>\n",
       "      <td>p</td>\n",
       "      <td>w</td>\n",
       "      <td>y</td>\n",
       "      <td>p</td>\n",
       "    </tr>\n",
       "    <tr>\n",
       "      <th>8038</th>\n",
       "      <td>e</td>\n",
       "      <td>x</td>\n",
       "      <td>y</td>\n",
       "      <td>g</td>\n",
       "      <td>t</td>\n",
       "      <td>n</td>\n",
       "      <td>f</td>\n",
       "      <td>c</td>\n",
       "      <td>b</td>\n",
       "      <td>w</td>\n",
       "      <td>...</td>\n",
       "      <td>s</td>\n",
       "      <td>s</td>\n",
       "      <td>w</td>\n",
       "      <td>w</td>\n",
       "      <td>w</td>\n",
       "      <td>t</td>\n",
       "      <td>p</td>\n",
       "      <td>w</td>\n",
       "      <td>y</td>\n",
       "      <td>p</td>\n",
       "    </tr>\n",
       "    <tr>\n",
       "      <th>8095</th>\n",
       "      <td>p</td>\n",
       "      <td>x</td>\n",
       "      <td>y</td>\n",
       "      <td>c</td>\n",
       "      <td>f</td>\n",
       "      <td>m</td>\n",
       "      <td>f</td>\n",
       "      <td>c</td>\n",
       "      <td>b</td>\n",
       "      <td>y</td>\n",
       "      <td>...</td>\n",
       "      <td>k</td>\n",
       "      <td>y</td>\n",
       "      <td>c</td>\n",
       "      <td>c</td>\n",
       "      <td>w</td>\n",
       "      <td>n</td>\n",
       "      <td>n</td>\n",
       "      <td>w</td>\n",
       "      <td>c</td>\n",
       "      <td>d</td>\n",
       "    </tr>\n",
       "    <tr>\n",
       "      <th>8114</th>\n",
       "      <td>p</td>\n",
       "      <td>f</td>\n",
       "      <td>y</td>\n",
       "      <td>c</td>\n",
       "      <td>f</td>\n",
       "      <td>m</td>\n",
       "      <td>a</td>\n",
       "      <td>c</td>\n",
       "      <td>b</td>\n",
       "      <td>y</td>\n",
       "      <td>...</td>\n",
       "      <td>k</td>\n",
       "      <td>y</td>\n",
       "      <td>c</td>\n",
       "      <td>c</td>\n",
       "      <td>w</td>\n",
       "      <td>n</td>\n",
       "      <td>n</td>\n",
       "      <td>w</td>\n",
       "      <td>c</td>\n",
       "      <td>d</td>\n",
       "    </tr>\n",
       "  </tbody>\n",
       "</table>\n",
       "<p>5644 rows × 22 columns</p>\n",
       "</div>"
      ],
      "text/plain": [
       "     class cap-shape cap-surface cap-color bruises odor gill-attachment  \\\n",
       "0        p         x           s         n       t    p               f   \n",
       "1        e         x           s         y       t    a               f   \n",
       "2        e         b           s         w       t    l               f   \n",
       "3        p         x           y         w       t    p               f   \n",
       "4        e         x           s         g       f    n               f   \n",
       "...    ...       ...         ...       ...     ...  ...             ...   \n",
       "7986     e         b           y         n       f    n               f   \n",
       "8001     e         x           y         n       f    n               f   \n",
       "8038     e         x           y         g       t    n               f   \n",
       "8095     p         x           y         c       f    m               f   \n",
       "8114     p         f           y         c       f    m               a   \n",
       "\n",
       "     gill-spacing gill-size gill-color  ... stalk-surface-above-ring  \\\n",
       "0               c         n          k  ...                        s   \n",
       "1               c         b          k  ...                        s   \n",
       "2               c         b          n  ...                        s   \n",
       "3               c         n          n  ...                        s   \n",
       "4               w         b          k  ...                        s   \n",
       "...           ...       ...        ...  ...                      ...   \n",
       "7986            c         b          w  ...                        y   \n",
       "8001            c         b          w  ...                        y   \n",
       "8038            c         b          w  ...                        s   \n",
       "8095            c         b          y  ...                        k   \n",
       "8114            c         b          y  ...                        k   \n",
       "\n",
       "     stalk-surface-below-ring stalk-color-above-ring stalk-color-below-ring  \\\n",
       "0                           s                      w                      w   \n",
       "1                           s                      w                      w   \n",
       "2                           s                      w                      w   \n",
       "3                           s                      w                      w   \n",
       "4                           s                      w                      w   \n",
       "...                       ...                    ...                    ...   \n",
       "7986                        y                      n                      n   \n",
       "8001                        y                      n                      n   \n",
       "8038                        s                      w                      w   \n",
       "8095                        y                      c                      c   \n",
       "8114                        y                      c                      c   \n",
       "\n",
       "     veil-color ring-number ring-type spore-print-color population habitat  \n",
       "0             w           o         p                 k          s       u  \n",
       "1             w           o         p                 n          n       g  \n",
       "2             w           o         p                 n          n       m  \n",
       "3             w           o         p                 k          s       u  \n",
       "4             w           o         e                 n          a       g  \n",
       "...         ...         ...       ...               ...        ...     ...  \n",
       "7986          w           t         p                 w          y       p  \n",
       "8001          w           t         p                 w          y       p  \n",
       "8038          w           t         p                 w          y       p  \n",
       "8095          w           n         n                 w          c       d  \n",
       "8114          w           n         n                 w          c       d  \n",
       "\n",
       "[5644 rows x 22 columns]"
      ]
     },
     "execution_count": 9,
     "metadata": {},
     "output_type": "execute_result"
    }
   ],
   "source": [
    "df"
   ]
  },
  {
   "cell_type": "markdown",
   "id": "f155abc5",
   "metadata": {},
   "source": [
    "### Target (Edible) Column ###"
   ]
  },
  {
   "cell_type": "code",
   "execution_count": 11,
   "id": "3c7006f6",
   "metadata": {},
   "outputs": [
    {
     "data": {
      "text/plain": [
       "0    p\n",
       "1    e\n",
       "2    e\n",
       "3    p\n",
       "4    e\n",
       "Name: class, dtype: object"
      ]
     },
     "execution_count": 11,
     "metadata": {},
     "output_type": "execute_result"
    }
   ],
   "source": [
    "df['class'].head()"
   ]
  },
  {
   "cell_type": "code",
   "execution_count": 10,
   "id": "3db9f226",
   "metadata": {},
   "outputs": [
    {
     "data": {
      "text/plain": [
       "0    0.0\n",
       "1    1.0\n",
       "2    1.0\n",
       "3    0.0\n",
       "4    1.0\n",
       "Name: edible, dtype: float64"
      ]
     },
     "execution_count": 10,
     "metadata": {},
     "output_type": "execute_result"
    }
   ],
   "source": [
    "df['edible'] = (df['class'] == 'e') + 0.0\n",
    "df.drop(columns= 'class', inplace = True)\n",
    "\n",
    "df.edible.head()"
   ]
  },
  {
   "cell_type": "code",
   "execution_count": 11,
   "id": "667322b3-eeae-4497-a40f-b8b10827afd4",
   "metadata": {},
   "outputs": [
    {
     "data": {
      "text/plain": [
       "Index(['cap-shape', 'cap-surface', 'cap-color', 'bruises', 'odor',\n",
       "       'gill-attachment', 'gill-spacing', 'gill-size', 'gill-color',\n",
       "       'stalk-shape', 'stalk-root', 'stalk-surface-above-ring',\n",
       "       'stalk-surface-below-ring', 'stalk-color-above-ring',\n",
       "       'stalk-color-below-ring', 'veil-color', 'ring-number', 'ring-type',\n",
       "       'spore-print-color', 'population', 'habitat', 'edible'],\n",
       "      dtype='object')"
      ]
     },
     "execution_count": 11,
     "metadata": {},
     "output_type": "execute_result"
    }
   ],
   "source": [
    "df.columns"
   ]
  },
  {
   "cell_type": "markdown",
   "id": "37c0f22b-ccdb-4d38-ad0c-b4a4705a313d",
   "metadata": {},
   "source": [
    "1. DEFINE EDIBLE COLUMN AND DROP CLASS COLUMN \n",
    "2. CREATE DUMMY VARIABLES FOR ALL THE COLUMNS"
   ]
  },
  {
   "cell_type": "markdown",
   "id": "901b0897",
   "metadata": {},
   "source": [
    "### get_dummies ###"
   ]
  },
  {
   "cell_type": "code",
   "execution_count": 12,
   "id": "4f29e9f0-3a2c-4cd2-8a01-85b3882397aa",
   "metadata": {},
   "outputs": [
    {
     "data": {
      "text/html": [
       "<div>\n",
       "<style scoped>\n",
       "    .dataframe tbody tr th:only-of-type {\n",
       "        vertical-align: middle;\n",
       "    }\n",
       "\n",
       "    .dataframe tbody tr th {\n",
       "        vertical-align: top;\n",
       "    }\n",
       "\n",
       "    .dataframe thead th {\n",
       "        text-align: right;\n",
       "    }\n",
       "</style>\n",
       "<table border=\"1\" class=\"dataframe\">\n",
       "  <thead>\n",
       "    <tr style=\"text-align: right;\">\n",
       "      <th></th>\n",
       "      <th>cap-shape_c</th>\n",
       "      <th>cap-shape_f</th>\n",
       "      <th>cap-shape_k</th>\n",
       "      <th>cap-shape_s</th>\n",
       "      <th>cap-shape_x</th>\n",
       "      <th>cap-surface_g</th>\n",
       "      <th>cap-surface_s</th>\n",
       "      <th>cap-surface_y</th>\n",
       "      <th>cap-color_c</th>\n",
       "      <th>cap-color_e</th>\n",
       "      <th>...</th>\n",
       "      <th>population_c</th>\n",
       "      <th>population_n</th>\n",
       "      <th>population_s</th>\n",
       "      <th>population_v</th>\n",
       "      <th>population_y</th>\n",
       "      <th>habitat_g</th>\n",
       "      <th>habitat_l</th>\n",
       "      <th>habitat_m</th>\n",
       "      <th>habitat_p</th>\n",
       "      <th>habitat_u</th>\n",
       "    </tr>\n",
       "  </thead>\n",
       "  <tbody>\n",
       "    <tr>\n",
       "      <th>0</th>\n",
       "      <td>0</td>\n",
       "      <td>0</td>\n",
       "      <td>0</td>\n",
       "      <td>0</td>\n",
       "      <td>1</td>\n",
       "      <td>0</td>\n",
       "      <td>1</td>\n",
       "      <td>0</td>\n",
       "      <td>0</td>\n",
       "      <td>0</td>\n",
       "      <td>...</td>\n",
       "      <td>0</td>\n",
       "      <td>0</td>\n",
       "      <td>1</td>\n",
       "      <td>0</td>\n",
       "      <td>0</td>\n",
       "      <td>0</td>\n",
       "      <td>0</td>\n",
       "      <td>0</td>\n",
       "      <td>0</td>\n",
       "      <td>1</td>\n",
       "    </tr>\n",
       "    <tr>\n",
       "      <th>1</th>\n",
       "      <td>0</td>\n",
       "      <td>0</td>\n",
       "      <td>0</td>\n",
       "      <td>0</td>\n",
       "      <td>1</td>\n",
       "      <td>0</td>\n",
       "      <td>1</td>\n",
       "      <td>0</td>\n",
       "      <td>0</td>\n",
       "      <td>0</td>\n",
       "      <td>...</td>\n",
       "      <td>0</td>\n",
       "      <td>1</td>\n",
       "      <td>0</td>\n",
       "      <td>0</td>\n",
       "      <td>0</td>\n",
       "      <td>1</td>\n",
       "      <td>0</td>\n",
       "      <td>0</td>\n",
       "      <td>0</td>\n",
       "      <td>0</td>\n",
       "    </tr>\n",
       "    <tr>\n",
       "      <th>2</th>\n",
       "      <td>0</td>\n",
       "      <td>0</td>\n",
       "      <td>0</td>\n",
       "      <td>0</td>\n",
       "      <td>0</td>\n",
       "      <td>0</td>\n",
       "      <td>1</td>\n",
       "      <td>0</td>\n",
       "      <td>0</td>\n",
       "      <td>0</td>\n",
       "      <td>...</td>\n",
       "      <td>0</td>\n",
       "      <td>1</td>\n",
       "      <td>0</td>\n",
       "      <td>0</td>\n",
       "      <td>0</td>\n",
       "      <td>0</td>\n",
       "      <td>0</td>\n",
       "      <td>1</td>\n",
       "      <td>0</td>\n",
       "      <td>0</td>\n",
       "    </tr>\n",
       "    <tr>\n",
       "      <th>3</th>\n",
       "      <td>0</td>\n",
       "      <td>0</td>\n",
       "      <td>0</td>\n",
       "      <td>0</td>\n",
       "      <td>1</td>\n",
       "      <td>0</td>\n",
       "      <td>0</td>\n",
       "      <td>1</td>\n",
       "      <td>0</td>\n",
       "      <td>0</td>\n",
       "      <td>...</td>\n",
       "      <td>0</td>\n",
       "      <td>0</td>\n",
       "      <td>1</td>\n",
       "      <td>0</td>\n",
       "      <td>0</td>\n",
       "      <td>0</td>\n",
       "      <td>0</td>\n",
       "      <td>0</td>\n",
       "      <td>0</td>\n",
       "      <td>1</td>\n",
       "    </tr>\n",
       "    <tr>\n",
       "      <th>4</th>\n",
       "      <td>0</td>\n",
       "      <td>0</td>\n",
       "      <td>0</td>\n",
       "      <td>0</td>\n",
       "      <td>1</td>\n",
       "      <td>0</td>\n",
       "      <td>1</td>\n",
       "      <td>0</td>\n",
       "      <td>0</td>\n",
       "      <td>0</td>\n",
       "      <td>...</td>\n",
       "      <td>0</td>\n",
       "      <td>0</td>\n",
       "      <td>0</td>\n",
       "      <td>0</td>\n",
       "      <td>0</td>\n",
       "      <td>1</td>\n",
       "      <td>0</td>\n",
       "      <td>0</td>\n",
       "      <td>0</td>\n",
       "      <td>0</td>\n",
       "    </tr>\n",
       "    <tr>\n",
       "      <th>...</th>\n",
       "      <td>...</td>\n",
       "      <td>...</td>\n",
       "      <td>...</td>\n",
       "      <td>...</td>\n",
       "      <td>...</td>\n",
       "      <td>...</td>\n",
       "      <td>...</td>\n",
       "      <td>...</td>\n",
       "      <td>...</td>\n",
       "      <td>...</td>\n",
       "      <td>...</td>\n",
       "      <td>...</td>\n",
       "      <td>...</td>\n",
       "      <td>...</td>\n",
       "      <td>...</td>\n",
       "      <td>...</td>\n",
       "      <td>...</td>\n",
       "      <td>...</td>\n",
       "      <td>...</td>\n",
       "      <td>...</td>\n",
       "      <td>...</td>\n",
       "    </tr>\n",
       "    <tr>\n",
       "      <th>7986</th>\n",
       "      <td>0</td>\n",
       "      <td>0</td>\n",
       "      <td>0</td>\n",
       "      <td>0</td>\n",
       "      <td>0</td>\n",
       "      <td>0</td>\n",
       "      <td>0</td>\n",
       "      <td>1</td>\n",
       "      <td>0</td>\n",
       "      <td>0</td>\n",
       "      <td>...</td>\n",
       "      <td>0</td>\n",
       "      <td>0</td>\n",
       "      <td>0</td>\n",
       "      <td>0</td>\n",
       "      <td>1</td>\n",
       "      <td>0</td>\n",
       "      <td>0</td>\n",
       "      <td>0</td>\n",
       "      <td>1</td>\n",
       "      <td>0</td>\n",
       "    </tr>\n",
       "    <tr>\n",
       "      <th>8001</th>\n",
       "      <td>0</td>\n",
       "      <td>0</td>\n",
       "      <td>0</td>\n",
       "      <td>0</td>\n",
       "      <td>1</td>\n",
       "      <td>0</td>\n",
       "      <td>0</td>\n",
       "      <td>1</td>\n",
       "      <td>0</td>\n",
       "      <td>0</td>\n",
       "      <td>...</td>\n",
       "      <td>0</td>\n",
       "      <td>0</td>\n",
       "      <td>0</td>\n",
       "      <td>0</td>\n",
       "      <td>1</td>\n",
       "      <td>0</td>\n",
       "      <td>0</td>\n",
       "      <td>0</td>\n",
       "      <td>1</td>\n",
       "      <td>0</td>\n",
       "    </tr>\n",
       "    <tr>\n",
       "      <th>8038</th>\n",
       "      <td>0</td>\n",
       "      <td>0</td>\n",
       "      <td>0</td>\n",
       "      <td>0</td>\n",
       "      <td>1</td>\n",
       "      <td>0</td>\n",
       "      <td>0</td>\n",
       "      <td>1</td>\n",
       "      <td>0</td>\n",
       "      <td>0</td>\n",
       "      <td>...</td>\n",
       "      <td>0</td>\n",
       "      <td>0</td>\n",
       "      <td>0</td>\n",
       "      <td>0</td>\n",
       "      <td>1</td>\n",
       "      <td>0</td>\n",
       "      <td>0</td>\n",
       "      <td>0</td>\n",
       "      <td>1</td>\n",
       "      <td>0</td>\n",
       "    </tr>\n",
       "    <tr>\n",
       "      <th>8095</th>\n",
       "      <td>0</td>\n",
       "      <td>0</td>\n",
       "      <td>0</td>\n",
       "      <td>0</td>\n",
       "      <td>1</td>\n",
       "      <td>0</td>\n",
       "      <td>0</td>\n",
       "      <td>1</td>\n",
       "      <td>1</td>\n",
       "      <td>0</td>\n",
       "      <td>...</td>\n",
       "      <td>1</td>\n",
       "      <td>0</td>\n",
       "      <td>0</td>\n",
       "      <td>0</td>\n",
       "      <td>0</td>\n",
       "      <td>0</td>\n",
       "      <td>0</td>\n",
       "      <td>0</td>\n",
       "      <td>0</td>\n",
       "      <td>0</td>\n",
       "    </tr>\n",
       "    <tr>\n",
       "      <th>8114</th>\n",
       "      <td>0</td>\n",
       "      <td>1</td>\n",
       "      <td>0</td>\n",
       "      <td>0</td>\n",
       "      <td>0</td>\n",
       "      <td>0</td>\n",
       "      <td>0</td>\n",
       "      <td>1</td>\n",
       "      <td>1</td>\n",
       "      <td>0</td>\n",
       "      <td>...</td>\n",
       "      <td>1</td>\n",
       "      <td>0</td>\n",
       "      <td>0</td>\n",
       "      <td>0</td>\n",
       "      <td>0</td>\n",
       "      <td>0</td>\n",
       "      <td>0</td>\n",
       "      <td>0</td>\n",
       "      <td>0</td>\n",
       "      <td>0</td>\n",
       "    </tr>\n",
       "  </tbody>\n",
       "</table>\n",
       "<p>5644 rows × 76 columns</p>\n",
       "</div>"
      ],
      "text/plain": [
       "      cap-shape_c  cap-shape_f  cap-shape_k  cap-shape_s  cap-shape_x  \\\n",
       "0               0            0            0            0            1   \n",
       "1               0            0            0            0            1   \n",
       "2               0            0            0            0            0   \n",
       "3               0            0            0            0            1   \n",
       "4               0            0            0            0            1   \n",
       "...           ...          ...          ...          ...          ...   \n",
       "7986            0            0            0            0            0   \n",
       "8001            0            0            0            0            1   \n",
       "8038            0            0            0            0            1   \n",
       "8095            0            0            0            0            1   \n",
       "8114            0            1            0            0            0   \n",
       "\n",
       "      cap-surface_g  cap-surface_s  cap-surface_y  cap-color_c  cap-color_e  \\\n",
       "0                 0              1              0            0            0   \n",
       "1                 0              1              0            0            0   \n",
       "2                 0              1              0            0            0   \n",
       "3                 0              0              1            0            0   \n",
       "4                 0              1              0            0            0   \n",
       "...             ...            ...            ...          ...          ...   \n",
       "7986              0              0              1            0            0   \n",
       "8001              0              0              1            0            0   \n",
       "8038              0              0              1            0            0   \n",
       "8095              0              0              1            1            0   \n",
       "8114              0              0              1            1            0   \n",
       "\n",
       "      ...  population_c  population_n  population_s  population_v  \\\n",
       "0     ...             0             0             1             0   \n",
       "1     ...             0             1             0             0   \n",
       "2     ...             0             1             0             0   \n",
       "3     ...             0             0             1             0   \n",
       "4     ...             0             0             0             0   \n",
       "...   ...           ...           ...           ...           ...   \n",
       "7986  ...             0             0             0             0   \n",
       "8001  ...             0             0             0             0   \n",
       "8038  ...             0             0             0             0   \n",
       "8095  ...             1             0             0             0   \n",
       "8114  ...             1             0             0             0   \n",
       "\n",
       "      population_y  habitat_g  habitat_l  habitat_m  habitat_p  habitat_u  \n",
       "0                0          0          0          0          0          1  \n",
       "1                0          1          0          0          0          0  \n",
       "2                0          0          0          1          0          0  \n",
       "3                0          0          0          0          0          1  \n",
       "4                0          1          0          0          0          0  \n",
       "...            ...        ...        ...        ...        ...        ...  \n",
       "7986             1          0          0          0          1          0  \n",
       "8001             1          0          0          0          1          0  \n",
       "8038             1          0          0          0          1          0  \n",
       "8095             0          0          0          0          0          0  \n",
       "8114             0          0          0          0          0          0  \n",
       "\n",
       "[5644 rows x 76 columns]"
      ]
     },
     "execution_count": 12,
     "metadata": {},
     "output_type": "execute_result"
    }
   ],
   "source": [
    "df_dummy = pd.get_dummies(df[['cap-shape', 'cap-surface', 'cap-color', 'bruises', 'odor',\\\n",
    "       'gill-attachment', 'gill-spacing', 'gill-size', 'gill-color',\\\n",
    "       'stalk-shape', 'stalk-root', 'stalk-surface-above-ring',\\\n",
    "       'stalk-surface-below-ring', 'stalk-color-above-ring',\\\n",
    "       'stalk-color-below-ring', 'veil-color', 'ring-number', 'ring-type',\\\n",
    "       'spore-print-color', 'population', 'habitat']], drop_first = True)\n",
    "\n",
    "df_dummy\n"
   ]
  },
  {
   "cell_type": "code",
   "execution_count": 13,
   "id": "dac40808-7128-4dc1-9e0b-38feb1eb9c00",
   "metadata": {},
   "outputs": [
    {
     "data": {
      "text/plain": [
       "Index(['cap-shape', 'cap-surface', 'cap-color', 'bruises', 'odor',\n",
       "       'gill-attachment', 'gill-spacing', 'gill-size', 'gill-color',\n",
       "       'stalk-shape', 'stalk-root', 'stalk-surface-above-ring',\n",
       "       'stalk-surface-below-ring', 'stalk-color-above-ring',\n",
       "       'stalk-color-below-ring', 'veil-color', 'ring-number', 'ring-type',\n",
       "       'spore-print-color', 'population', 'habitat', 'edible'],\n",
       "      dtype='object')"
      ]
     },
     "execution_count": 13,
     "metadata": {},
     "output_type": "execute_result"
    }
   ],
   "source": [
    "df.columns\n",
    "\n",
    "df.drop(columns= ['cap-shape', 'cap-surface', 'cap-color', 'bruises', 'odor',\\\n",
    "       'gill-attachment', 'gill-spacing', 'gill-size', 'gill-color',\\\n",
    "       'stalk-shape', 'stalk-root', 'stalk-surface-above-ring',\\\n",
    "       'stalk-surface-below-ring', 'stalk-color-above-ring',\\\n",
    "       'stalk-color-below-ring', 'veil-color', 'ring-number', 'ring-type',\\\n",
    "       'spore-print-color', 'population', 'habitat'], inplace = True)\n"
   ]
  },
  {
   "cell_type": "code",
   "execution_count": 14,
   "id": "ed440ed4-439a-4fa2-a64f-6ea5cb39ced6",
   "metadata": {},
   "outputs": [],
   "source": [
    "df = pd.concat([df, df_dummy], axis = 1)"
   ]
  },
  {
   "cell_type": "markdown",
   "id": "511fa182",
   "metadata": {},
   "source": [
    "### Drop duplicates ###"
   ]
  },
  {
   "cell_type": "code",
   "execution_count": 15,
   "id": "6c7c77e6-6617-4b66-bb60-0dfd3bde97d4",
   "metadata": {},
   "outputs": [
    {
     "data": {
      "text/plain": [
       "Index(['edible', 'cap-shape_c', 'cap-shape_f', 'cap-shape_k', 'cap-shape_s',\n",
       "       'cap-shape_x', 'cap-surface_g', 'cap-surface_s', 'cap-surface_y',\n",
       "       'cap-color_c', 'cap-color_e', 'cap-color_g', 'cap-color_n',\n",
       "       'cap-color_p', 'cap-color_w', 'cap-color_y', 'bruises_t', 'odor_c',\n",
       "       'odor_f', 'odor_l', 'odor_m', 'odor_n', 'odor_p', 'gill-attachment_f',\n",
       "       'gill-spacing_w', 'gill-size_n', 'gill-color_h', 'gill-color_k',\n",
       "       'gill-color_n', 'gill-color_p', 'gill-color_r', 'gill-color_u',\n",
       "       'gill-color_w', 'gill-color_y', 'stalk-shape_t', 'stalk-root_c',\n",
       "       'stalk-root_e', 'stalk-root_r', 'stalk-surface-above-ring_k',\n",
       "       'stalk-surface-above-ring_s', 'stalk-surface-above-ring_y',\n",
       "       'stalk-surface-below-ring_k', 'stalk-surface-below-ring_s',\n",
       "       'stalk-surface-below-ring_y', 'stalk-color-above-ring_c',\n",
       "       'stalk-color-above-ring_g', 'stalk-color-above-ring_n',\n",
       "       'stalk-color-above-ring_p', 'stalk-color-above-ring_w',\n",
       "       'stalk-color-above-ring_y', 'stalk-color-below-ring_c',\n",
       "       'stalk-color-below-ring_g', 'stalk-color-below-ring_n',\n",
       "       'stalk-color-below-ring_p', 'stalk-color-below-ring_w',\n",
       "       'stalk-color-below-ring_y', 'veil-color_y', 'ring-number_o',\n",
       "       'ring-number_t', 'ring-type_l', 'ring-type_n', 'ring-type_p',\n",
       "       'spore-print-color_k', 'spore-print-color_n', 'spore-print-color_r',\n",
       "       'spore-print-color_u', 'spore-print-color_w', 'population_c',\n",
       "       'population_n', 'population_s', 'population_v', 'population_y',\n",
       "       'habitat_g', 'habitat_l', 'habitat_m', 'habitat_p', 'habitat_u'],\n",
       "      dtype='object')"
      ]
     },
     "execution_count": 15,
     "metadata": {},
     "output_type": "execute_result"
    }
   ],
   "source": [
    "df.columns\n",
    "\n",
    "df = df.T.drop_duplicates().T"
   ]
  },
  {
   "cell_type": "code",
   "execution_count": 16,
   "id": "8919a61f-5b56-49e4-ab2e-32314b9caa44",
   "metadata": {},
   "outputs": [
    {
     "data": {
      "text/plain": [
       "Index(['edible', 'cap-shape_c', 'cap-shape_f', 'cap-shape_k', 'cap-shape_s',\n",
       "       'cap-shape_x', 'cap-surface_g', 'cap-surface_s', 'cap-surface_y',\n",
       "       'cap-color_c', 'cap-color_e', 'cap-color_g', 'cap-color_n',\n",
       "       'cap-color_p', 'cap-color_w', 'cap-color_y', 'bruises_t', 'odor_c',\n",
       "       'odor_f', 'odor_l', 'odor_m', 'odor_n', 'odor_p', 'gill-attachment_f',\n",
       "       'gill-spacing_w', 'gill-size_n', 'gill-color_h', 'gill-color_k',\n",
       "       'gill-color_n', 'gill-color_p', 'gill-color_r', 'gill-color_u',\n",
       "       'gill-color_w', 'gill-color_y', 'stalk-shape_t', 'stalk-root_c',\n",
       "       'stalk-root_e', 'stalk-root_r', 'stalk-surface-above-ring_k',\n",
       "       'stalk-surface-above-ring_s', 'stalk-surface-above-ring_y',\n",
       "       'stalk-surface-below-ring_k', 'stalk-surface-below-ring_s',\n",
       "       'stalk-surface-below-ring_y', 'stalk-color-above-ring_g',\n",
       "       'stalk-color-above-ring_n', 'stalk-color-above-ring_p',\n",
       "       'stalk-color-above-ring_w', 'stalk-color-above-ring_y',\n",
       "       'stalk-color-below-ring_g', 'stalk-color-below-ring_n',\n",
       "       'stalk-color-below-ring_p', 'stalk-color-below-ring_w', 'ring-number_o',\n",
       "       'ring-number_t', 'ring-type_p', 'spore-print-color_k',\n",
       "       'spore-print-color_n', 'spore-print-color_r', 'spore-print-color_u',\n",
       "       'spore-print-color_w', 'population_c', 'population_n', 'population_s',\n",
       "       'population_v', 'population_y', 'habitat_g', 'habitat_l', 'habitat_m',\n",
       "       'habitat_p', 'habitat_u'],\n",
       "      dtype='object')"
      ]
     },
     "execution_count": 16,
     "metadata": {},
     "output_type": "execute_result"
    }
   ],
   "source": [
    "df.columns"
   ]
  },
  {
   "cell_type": "markdown",
   "id": "079d1ad3",
   "metadata": {},
   "source": [
    "## RandomForestClassifier ##"
   ]
  },
  {
   "cell_type": "code",
   "execution_count": 17,
   "id": "81a98f95-5544-4495-81c9-d96081f7480a",
   "metadata": {},
   "outputs": [],
   "source": [
    "from sklearn.ensemble import RandomForestClassifier\n",
    "from sklearn.model_selection import train_test_split\n",
    "\n",
    "X = df[['cap-shape_c', 'cap-shape_f', 'cap-shape_k', 'cap-shape_s',\\\n",
    "       'cap-shape_x', 'cap-surface_g', 'cap-surface_s', 'cap-surface_y',\\\n",
    "       'cap-color_c', 'cap-color_e', 'cap-color_g', 'cap-color_n',\\\n",
    "       'cap-color_p', 'cap-color_w', 'cap-color_y', 'bruises_t', 'odor_c',\\\n",
    "       'odor_f', 'odor_l', 'odor_m', 'odor_n', 'odor_p', 'gill-attachment_f',\\\n",
    "       'gill-spacing_w', 'gill-size_n', 'gill-color_h', 'gill-color_k',\\\n",
    "       'gill-color_n', 'gill-color_p', 'gill-color_r', 'gill-color_u',\\\n",
    "       'gill-color_w', 'gill-color_y', 'stalk-shape_t', 'stalk-root_c',\\\n",
    "       'stalk-root_e', 'stalk-root_r', 'stalk-surface-above-ring_k',\\\n",
    "       'stalk-surface-above-ring_s', 'stalk-surface-above-ring_y',\\\n",
    "       'stalk-surface-below-ring_k', 'stalk-surface-below-ring_s',\\\n",
    "       'stalk-surface-below-ring_y', 'stalk-color-above-ring_g',\\\n",
    "       'stalk-color-above-ring_n', 'stalk-color-above-ring_p',\\\n",
    "       'stalk-color-above-ring_w', 'stalk-color-above-ring_y',\\\n",
    "       'stalk-color-below-ring_g', 'stalk-color-below-ring_n',\\\n",
    "       'stalk-color-below-ring_p', 'stalk-color-below-ring_w', 'ring-number_o',\\\n",
    "       'ring-number_t', 'ring-type_p', 'spore-print-color_k',\\\n",
    "       'spore-print-color_n', 'spore-print-color_r', 'spore-print-color_u',\\\n",
    "       'spore-print-color_w', 'population_c', 'population_n', 'population_s',\\\n",
    "       'population_v', 'population_y', 'habitat_g', 'habitat_l', 'habitat_m',\\\n",
    "       'habitat_p', 'habitat_u']]\n",
    "\n",
    "\n",
    "y = df['edible']\n",
    "\n",
    "X_train, X_test, y_train, y_test = train_test_split(X, y, train_size = .8, test_size= .2,\\\n",
    "                                                    random_state=42)\n"
   ]
  },
  {
   "cell_type": "code",
   "execution_count": 18,
   "id": "92ca1385-159a-4a54-8195-9a034ceb4665",
   "metadata": {},
   "outputs": [
    {
     "data": {
      "text/plain": [
       "Index(['cap-shape_c', 'cap-shape_f', 'cap-shape_k', 'cap-shape_s',\n",
       "       'cap-shape_x', 'cap-surface_g', 'cap-surface_s', 'cap-surface_y',\n",
       "       'cap-color_c', 'cap-color_e', 'cap-color_g', 'cap-color_n',\n",
       "       'cap-color_p', 'cap-color_w', 'cap-color_y', 'bruises_t', 'odor_c',\n",
       "       'odor_f', 'odor_l', 'odor_m', 'odor_n', 'odor_p', 'gill-attachment_f',\n",
       "       'gill-spacing_w', 'gill-size_n', 'gill-color_h', 'gill-color_k',\n",
       "       'gill-color_n', 'gill-color_p', 'gill-color_r', 'gill-color_u',\n",
       "       'gill-color_w', 'gill-color_y', 'stalk-shape_t', 'stalk-root_c',\n",
       "       'stalk-root_e', 'stalk-root_r', 'stalk-surface-above-ring_k',\n",
       "       'stalk-surface-above-ring_s', 'stalk-surface-above-ring_y',\n",
       "       'stalk-surface-below-ring_k', 'stalk-surface-below-ring_s',\n",
       "       'stalk-surface-below-ring_y', 'stalk-color-above-ring_g',\n",
       "       'stalk-color-above-ring_n', 'stalk-color-above-ring_p',\n",
       "       'stalk-color-above-ring_w', 'stalk-color-above-ring_y',\n",
       "       'stalk-color-below-ring_g', 'stalk-color-below-ring_n',\n",
       "       'stalk-color-below-ring_p', 'stalk-color-below-ring_w', 'ring-number_o',\n",
       "       'ring-number_t', 'ring-type_p', 'spore-print-color_k',\n",
       "       'spore-print-color_n', 'spore-print-color_r', 'spore-print-color_u',\n",
       "       'spore-print-color_w', 'population_c', 'population_n', 'population_s',\n",
       "       'population_v', 'population_y', 'habitat_g', 'habitat_l', 'habitat_m',\n",
       "       'habitat_p', 'habitat_u'],\n",
       "      dtype='object')"
      ]
     },
     "execution_count": 18,
     "metadata": {},
     "output_type": "execute_result"
    }
   ],
   "source": [
    "X.columns"
   ]
  },
  {
   "cell_type": "code",
   "execution_count": 19,
   "id": "84ccd40f-2a6f-44fa-915e-4bb5d3d7a68d",
   "metadata": {},
   "outputs": [
    {
     "data": {
      "text/plain": [
       "RandomForestClassifier()"
      ]
     },
     "execution_count": 19,
     "metadata": {},
     "output_type": "execute_result"
    }
   ],
   "source": [
    "forest = RandomForestClassifier()\n",
    "forest.fit(X_train, y_train)"
   ]
  },
  {
   "cell_type": "markdown",
   "id": "b496640b",
   "metadata": {},
   "source": [
    "### Accuracy Score (roc_auc_score) ###"
   ]
  },
  {
   "cell_type": "code",
   "execution_count": 20,
   "id": "478ffd54-1060-4353-9b06-7f2cb683fd95",
   "metadata": {},
   "outputs": [
    {
     "data": {
      "text/plain": [
       "1.0"
      ]
     },
     "execution_count": 20,
     "metadata": {},
     "output_type": "execute_result"
    }
   ],
   "source": [
    "from sklearn.metrics import roc_auc_score\n",
    "roc_auc_score(y_test, forest.predict_proba(X_test)[:,1])"
   ]
  },
  {
   "cell_type": "code",
   "execution_count": 21,
   "id": "1485d376-cfbd-4dae-9bd5-4b5873dd6b2f",
   "metadata": {},
   "outputs": [],
   "source": [
    "y_pred = forest.predict(X_test)"
   ]
  },
  {
   "cell_type": "code",
   "execution_count": 22,
   "id": "ab545bec-f30c-406e-a6d4-2fb4085b25c9",
   "metadata": {},
   "outputs": [
    {
     "data": {
      "text/plain": [
       "1.0"
      ]
     },
     "execution_count": 22,
     "metadata": {},
     "output_type": "execute_result"
    }
   ],
   "source": [
    "from sklearn.metrics import accuracy_score\n",
    "\n",
    "accuracy_score(y_test, y_pred)\n"
   ]
  },
  {
   "cell_type": "code",
   "execution_count": 23,
   "id": "020ad11e-4333-4d58-be16-7c52719e3bf5",
   "metadata": {},
   "outputs": [
    {
     "data": {
      "text/plain": [
       "1.0    2783\n",
       "0.0    1732\n",
       "Name: edible, dtype: int64"
      ]
     },
     "execution_count": 23,
     "metadata": {},
     "output_type": "execute_result"
    }
   ],
   "source": [
    "y_train.value_counts()"
   ]
  },
  {
   "cell_type": "markdown",
   "id": "5b65aeb9",
   "metadata": {},
   "source": [
    "### Feature Importance ###"
   ]
  },
  {
   "cell_type": "code",
   "execution_count": 24,
   "id": "efe604bd-518a-4e69-a225-312b95fdfbd7",
   "metadata": {},
   "outputs": [],
   "source": [
    "# feature importance\n",
    "feature_names = [f\"feature {i}\" for i in range(X.shape[1])]\n",
    "importances = forest.feature_importances_"
   ]
  },
  {
   "cell_type": "code",
   "execution_count": 25,
   "id": "599bfb02-fd51-4cd4-8ca1-8740ff29f826",
   "metadata": {},
   "outputs": [],
   "source": [
    "forest_importances = pd.Series(importances, index=X.columns)"
   ]
  },
  {
   "cell_type": "code",
   "execution_count": 26,
   "id": "c589d187-b9c0-4374-8cfa-71b739ba0838",
   "metadata": {},
   "outputs": [
    {
     "data": {
      "text/plain": [
       "<AxesSubplot:>"
      ]
     },
     "execution_count": 26,
     "metadata": {},
     "output_type": "execute_result"
    },
    {
     "data": {
      "image/png": "[encoded data removed]",
      "text/plain": [
       "<Figure size 432x288 with 1 Axes>"
      ]
     },
     "metadata": {
      "needs_background": "light"
     },
     "output_type": "display_data"
    }
   ],
   "source": [
    "fig, ax = plt.subplots()\n",
    "forest_importances.nlargest(10).plot.bar()"
   ]
  },
  {
   "cell_type": "code",
   "execution_count": 27,
   "id": "1d16e9a6-5047-4254-bcb4-003156595bde",
   "metadata": {},
   "outputs": [
    {
     "data": {
      "text/plain": [
       "odor_f                        0.157347\n",
       "odor_n                        0.127677\n",
       "stalk-surface-above-ring_k    0.066423\n",
       "stalk-surface-below-ring_k    0.058674\n",
       "stalk-surface-above-ring_s    0.053628\n",
       "dtype: float64"
      ]
     },
     "execution_count": 27,
     "metadata": {},
     "output_type": "execute_result"
    }
   ],
   "source": [
    "forest_importances.nlargest(5)"
   ]
  },
  {
   "cell_type": "code",
   "execution_count": 28,
   "id": "f43ad002-dd47-4749-8736-e14e8ecf8972",
   "metadata": {},
   "outputs": [
    {
     "data": {
      "text/plain": [
       "<AxesSubplot:xlabel='edible', ylabel='count'>"
      ]
     },
     "execution_count": 28,
     "metadata": {},
     "output_type": "execute_result"
    },
    {
     "data": {
      "image/png": "[encoded data removed]",
      "text/plain": [
       "<Figure size 432x288 with 1 Axes>"
      ]
     },
     "metadata": {
      "needs_background": "light"
     },
     "output_type": "display_data"
    }
   ],
   "source": [
    "sns.countplot(data=df, x=\"edible\", hue=\"odor_f\")"
   ]
  },
  {
   "cell_type": "code",
   "execution_count": 29,
   "id": "5b7ab374-d62c-43af-ba42-6ed999a0cdb1",
   "metadata": {},
   "outputs": [
    {
     "data": {
      "text/plain": [
       "<AxesSubplot:xlabel='edible', ylabel='count'>"
      ]
     },
     "execution_count": 29,
     "metadata": {},
     "output_type": "execute_result"
    },
    {
     "data": {
      "image/png": "[encoded data removed]",
      "text/plain": [
       "<Figure size 432x288 with 1 Axes>"
      ]
     },
     "metadata": {
      "needs_background": "light"
     },
     "output_type": "display_data"
    }
   ],
   "source": [
    "sns.countplot(data=df, x=\"edible\", hue=\"odor_n\")"
   ]
  },
  {
   "cell_type": "code",
   "execution_count": 30,
   "id": "dd27bf12-cb35-47e8-a313-04ffe130e32a",
   "metadata": {},
   "outputs": [
    {
     "data": {
      "text/plain": [
       "<AxesSubplot:xlabel='edible', ylabel='count'>"
      ]
     },
     "execution_count": 30,
     "metadata": {},
     "output_type": "execute_result"
    },
    {
     "data": {
      "image/png": "[encoded data removed]",
      "text/plain": [
       "<Figure size 432x288 with 1 Axes>"
      ]
     },
     "metadata": {
      "needs_background": "light"
     },
     "output_type": "display_data"
    }
   ],
   "source": [
    "sns.countplot(data=df, x=\"edible\", hue=\"stalk-surface-above-ring_k\")"
   ]
  },
  {
   "cell_type": "code",
   "execution_count": 31,
   "id": "90be11d0-2f05-4ecd-a19c-1cc19750fae3",
   "metadata": {},
   "outputs": [
    {
     "data": {
      "text/plain": [
       "<AxesSubplot:xlabel='edible', ylabel='count'>"
      ]
     },
     "execution_count": 31,
     "metadata": {},
     "output_type": "execute_result"
    },
    {
     "data": {
      "image/png": "[encoded data removed]",
      "text/plain": [
       "<Figure size 432x288 with 1 Axes>"
      ]
     },
     "metadata": {
      "needs_background": "light"
     },
     "output_type": "display_data"
    }
   ],
   "source": [
    "sns.countplot(data=df, x=\"edible\", hue=\"stalk-shape_t\")"
   ]
  },
  {
   "cell_type": "code",
   "execution_count": 32,
   "id": "92dd3561-43fa-4095-a716-6ad9b25d78a1",
   "metadata": {},
   "outputs": [
    {
     "data": {
      "text/plain": [
       "<AxesSubplot:xlabel='edible', ylabel='count'>"
      ]
     },
     "execution_count": 32,
     "metadata": {},
     "output_type": "execute_result"
    },
    {
     "data": {
      "image/png": "[encoded data removed]",
      "text/plain": [
       "<Figure size 432x288 with 1 Axes>"
      ]
     },
     "metadata": {
      "needs_background": "light"
     },
     "output_type": "display_data"
    }
   ],
   "source": [
    "sns.countplot(data=df, x=\"edible\", hue=\"stalk-surface-below-ring_k\")"
   ]
  },
  {
   "cell_type": "code",
   "execution_count": 33,
   "id": "8311dbfb-e655-4da0-a71e-a2f52d832b21",
   "metadata": {},
   "outputs": [
    {
     "data": {
      "text/plain": [
       "0.0    4348\n",
       "1.0    1296\n",
       "Name: stalk-surface-below-ring_k, dtype: int64"
      ]
     },
     "execution_count": 33,
     "metadata": {},
     "output_type": "execute_result"
    }
   ],
   "source": [
    "df['stalk-surface-below-ring_k'].value_counts()"
   ]
  },
  {
   "cell_type": "code",
   "execution_count": 34,
   "id": "07a8aa19-b06a-4a59-a499-aa8659ead79a",
   "metadata": {},
   "outputs": [
    {
     "data": {
      "text/plain": [
       "0.0    4312\n",
       "1.0    1332\n",
       "Name: stalk-surface-above-ring_k, dtype: int64"
      ]
     },
     "execution_count": 34,
     "metadata": {},
     "output_type": "execute_result"
    }
   ],
   "source": [
    "df['stalk-surface-above-ring_k'].value_counts()"
   ]
  },
  {
   "cell_type": "code",
   "execution_count": 35,
   "id": "c445ece4-599b-4d4e-aaca-a77a4abdeedc",
   "metadata": {},
   "outputs": [],
   "source": [
    "#https://www.kaggle.com/code/yugandhar123/unsupervised-approach-kmeans-clustering\n",
    "# unsupervised method K means clustering "
   ]
  },
  {
   "cell_type": "markdown",
   "id": "a0c557e2",
   "metadata": {},
   "source": [
    "At this point, consider unsupervised learning to see if we can get any other information on the accuracy. \n",
    "\n",
    "Use PCA and K-Means Clustering to evaluate."
   ]
  },
  {
   "cell_type": "markdown",
   "id": "2292028b",
   "metadata": {},
   "source": [
    "## PCA ##"
   ]
  },
  {
   "cell_type": "code",
   "execution_count": 36,
   "id": "453a1135",
   "metadata": {},
   "outputs": [
    {
     "data": {
      "text/plain": [
       "PCA(n_components=2)"
      ]
     },
     "execution_count": 36,
     "metadata": {},
     "output_type": "execute_result"
    },
    {
     "name": "stdout",
     "output_type": "stream",
     "text": [
      "Original shape: (4515, 70)\n",
      "Reduced shape: (4515, 2)\n"
     ]
    }
   ],
   "source": [
    "from sklearn.decomposition import PCA\n",
    "# keep the first two principal components of the data\n",
    "pca = PCA(n_components = 2)\n",
    "# fit PCA model to mushroom data\n",
    "pca.fit(X_train)\n",
    "\n",
    "# transform data onto the first two principal components\n",
    "X_pca = pca.transform(X_train)\n",
    "\n",
    "print(\"Original shape: {}\".format(str(X_train.shape)))\n",
    "print(\"Reduced shape: {}\".format(str(X_pca.shape)))"
   ]
  },
  {
   "cell_type": "code",
   "execution_count": 37,
   "id": "3a49fe6b",
   "metadata": {},
   "outputs": [
    {
     "name": "stdout",
     "output_type": "stream",
     "text": [
      "PCA component shape: (2, 70)\n",
      "PCA components:\n",
      "[[-6.58270234e-05  3.45105421e-02  2.09368085e-03 -2.43249880e-03\n",
      "  -7.75826921e-03 -4.07931968e-04 -8.87676073e-02  5.18268914e-02\n",
      "   1.81155174e-03 -4.81653600e-02  9.06463094e-02 -8.86442360e-02\n",
      "  -6.78158661e-03 -7.32874462e-02  1.29941960e-01 -2.54808842e-01\n",
      "  -1.31134755e-02  3.02930266e-01 -3.29518549e-02  5.15562271e-03\n",
      "  -2.02896113e-01 -2.78728478e-02 -2.57524268e-03 -6.05577238e-02\n",
      "  -5.82937989e-02  9.74980426e-02 -3.14805410e-02 -8.46370070e-02\n",
      "   3.72340894e-02 -2.01350905e-03 -3.96573451e-02 -6.85554268e-02\n",
      "   3.22580789e-03 -2.07579084e-01 -4.09118310e-02 -7.94232168e-02\n",
      "  -7.07482464e-03  3.16820861e-01 -3.01118785e-01  1.81242575e-03\n",
      "   3.11665238e-01 -2.94434582e-01 -1.06776183e-04 -4.74853128e-02\n",
      "   1.07031064e-01  6.30796783e-02 -2.30553410e-01  7.08279848e-04\n",
      "  -4.63374517e-02  1.10088330e-01  6.37997447e-02 -2.31905552e-01\n",
      "   2.29469033e-03 -7.45031304e-03 -2.74399714e-01 -1.44648710e-01\n",
      "  -1.51759693e-01 -6.00125600e-03 -4.85413229e-03  4.33352612e-03\n",
      "   4.94318297e-03 -2.20730240e-02 -7.91250330e-02  3.54036511e-02\n",
      "   8.12141913e-02  8.93514451e-03  6.26960447e-04 -2.69265807e-02\n",
      "   1.03313963e-01 -2.63497933e-02]\n",
      " [ 2.93598352e-04 -6.16880557e-02  1.03750768e-03  2.13008374e-03\n",
      "   2.53676725e-02  3.04533210e-04  2.37146953e-01 -1.86038986e-01\n",
      "   1.05640987e-03 -1.38552694e-01 -5.10767878e-02 -3.64287123e-02\n",
      "   8.45201415e-03  1.68294430e-01  3.66037550e-02 -2.38627805e-01\n",
      "   2.88298000e-02  2.61533492e-02  4.23351986e-02  1.20498914e-04\n",
      "  -1.74499956e-01  3.91402244e-02 -2.48088257e-05  2.39222773e-01\n",
      "   8.48687357e-02  6.92739783e-02  8.07905198e-02 -3.95832485e-04\n",
      "  -1.56849790e-02  2.22612182e-04 -9.54040357e-02 -5.94975097e-02\n",
      "   4.44605875e-04 -1.37890573e-01  6.53498608e-02  2.57843811e-01\n",
      "   8.07029281e-03 -1.01751077e-02 -1.19950024e-01 -8.26950877e-04\n",
      "  -1.02956066e-02 -1.24995052e-01  7.36384085e-03 -1.48120826e-01\n",
      "  -2.02410509e-05 -1.63375593e-01  3.10134376e-01  4.63387385e-04\n",
      "  -1.46215394e-01  2.50435428e-03 -1.65481655e-01  3.07918805e-01\n",
      "   2.09900739e-03 -2.21950631e-03 -2.04689909e-01 -1.45608966e-02\n",
      "  -1.64986738e-02  6.51595226e-04  3.92476770e-03  3.29858292e-04\n",
      "   1.10448325e-03  2.72382020e-02  2.24347029e-01 -1.32026310e-01\n",
      "  -2.18204303e-01  3.18956578e-01  3.08046091e-03  2.49434011e-02\n",
      "  -1.38291418e-02  3.68865791e-02]]\n"
     ]
    }
   ],
   "source": [
    "print(\"PCA component shape: {}\".format(pca.components_.shape))\n",
    "print(\"PCA components:\\n{}\".format(pca.components_))\n",
    "columns = list(df.columns)"
   ]
  },
  {
   "cell_type": "code",
   "execution_count": 38,
   "id": "73c1e1d7",
   "metadata": {},
   "outputs": [
    {
     "data": {
      "text/plain": [
       "<matplotlib.image.AxesImage at 0x11a4c8a60>"
      ]
     },
     "execution_count": 38,
     "metadata": {},
     "output_type": "execute_result"
    },
    {
     "data": {
      "text/plain": [
       "([<matplotlib.axis.YTick at 0x11a4e1970>,\n",
       "  <matplotlib.axis.YTick at 0x11a4e11f0>],\n",
       " [Text(0, 0, 'First component'), Text(0, 1, 'Second component')])"
      ]
     },
     "execution_count": 38,
     "metadata": {},
     "output_type": "execute_result"
    },
    {
     "data": {
      "text/plain": [
       "<matplotlib.colorbar.Colorbar at 0x11a4c8f10>"
      ]
     },
     "execution_count": 38,
     "metadata": {},
     "output_type": "execute_result"
    },
    {
     "data": {
      "text/plain": [
       "([<matplotlib.axis.XTick at 0x11afa7970>,\n",
       "  <matplotlib.axis.XTick at 0x11afa77f0>,\n",
       "  <matplotlib.axis.XTick at 0x11a4e19a0>,\n",
       "  <matplotlib.axis.XTick at 0x11a64dc40>,\n",
       "  <matplotlib.axis.XTick at 0x11a6583d0>,\n",
       "  <matplotlib.axis.XTick at 0x11a658b20>,\n",
       "  <matplotlib.axis.XTick at 0x11a658df0>,\n",
       "  <matplotlib.axis.XTick at 0x11a64dd00>,\n",
       "  <matplotlib.axis.XTick at 0x11a64f7c0>,\n",
       "  <matplotlib.axis.XTick at 0x11a646070>,\n",
       "  <matplotlib.axis.XTick at 0x11a6466a0>,\n",
       "  <matplotlib.axis.XTick at 0x11a646df0>,\n",
       "  <matplotlib.axis.XTick at 0x11afb1580>,\n",
       "  <matplotlib.axis.XTick at 0x11a646a90>,\n",
       "  <matplotlib.axis.XTick at 0x11a64f820>,\n",
       "  <matplotlib.axis.XTick at 0x11afb1100>,\n",
       "  <matplotlib.axis.XTick at 0x11a64d580>,\n",
       "  <matplotlib.axis.XTick at 0x11afbb8b0>,\n",
       "  <matplotlib.axis.XTick at 0x11afbe040>,\n",
       "  <matplotlib.axis.XTick at 0x11afbe790>,\n",
       "  <matplotlib.axis.XTick at 0x11afbb640>,\n",
       "  <matplotlib.axis.XTick at 0x11a64f400>,\n",
       "  <matplotlib.axis.XTick at 0x11afbe0a0>,\n",
       "  <matplotlib.axis.XTick at 0x11afc7340>,\n",
       "  <matplotlib.axis.XTick at 0x11afc7a90>,\n",
       "  <matplotlib.axis.XTick at 0x11afcf220>,\n",
       "  <matplotlib.axis.XTick at 0x11afc7e80>,\n",
       "  <matplotlib.axis.XTick at 0x11afbb550>,\n",
       "  <matplotlib.axis.XTick at 0x11afb1d30>,\n",
       "  <matplotlib.axis.XTick at 0x11afcfa00>,\n",
       "  <matplotlib.axis.XTick at 0x11afd6070>,\n",
       "  <matplotlib.axis.XTick at 0x11afd6730>,\n",
       "  <matplotlib.axis.XTick at 0x11afd6e80>,\n",
       "  <matplotlib.axis.XTick at 0x11afd6a00>,\n",
       "  <matplotlib.axis.XTick at 0x11a64f070>,\n",
       "  <matplotlib.axis.XTick at 0x11afdd4c0>,\n",
       "  <matplotlib.axis.XTick at 0x11afddb50>,\n",
       "  <matplotlib.axis.XTick at 0x11afe42e0>,\n",
       "  <matplotlib.axis.XTick at 0x11afe4a30>,\n",
       "  <matplotlib.axis.XTick at 0x11a93d1c0>,\n",
       "  <matplotlib.axis.XTick at 0x11afe4a60>,\n",
       "  <matplotlib.axis.XTick at 0x11afdd6a0>,\n",
       "  <matplotlib.axis.XTick at 0x11a93d190>,\n",
       "  <matplotlib.axis.XTick at 0x11a93dd00>,\n",
       "  <matplotlib.axis.XTick at 0x11a93c490>,\n",
       "  <matplotlib.axis.XTick at 0x11a93cbe0>,\n",
       "  <matplotlib.axis.XTick at 0x11a934370>,\n",
       "  <matplotlib.axis.XTick at 0x11a93c760>,\n",
       "  <matplotlib.axis.XTick at 0x11afc7ac0>,\n",
       "  <matplotlib.axis.XTick at 0x11a934760>,\n",
       "  <matplotlib.axis.XTick at 0x11a92d040>,\n",
       "  <matplotlib.axis.XTick at 0x11a92d640>,\n",
       "  <matplotlib.axis.XTick at 0x11a92dd90>,\n",
       "  <matplotlib.axis.XTick at 0x11a92ddf0>,\n",
       "  <matplotlib.axis.XTick at 0x11a934c40>,\n",
       "  <matplotlib.axis.XTick at 0x11a93c400>,\n",
       "  <matplotlib.axis.XTick at 0x11a9139a0>,\n",
       "  <matplotlib.axis.XTick at 0x11a917130>,\n",
       "  <matplotlib.axis.XTick at 0x11a917880>,\n",
       "  <matplotlib.axis.XTick at 0x11a916e20>,\n",
       "  <matplotlib.axis.XTick at 0x11a9177f0>,\n",
       "  <matplotlib.axis.XTick at 0x11a913a00>,\n",
       "  <matplotlib.axis.XTick at 0x11a916a90>,\n",
       "  <matplotlib.axis.XTick at 0x11a916430>,\n",
       "  <matplotlib.axis.XTick at 0x11a910400>,\n",
       "  <matplotlib.axis.XTick at 0x11a910b50>,\n",
       "  <matplotlib.axis.XTick at 0x11a9082e0>,\n",
       "  <matplotlib.axis.XTick at 0x11a9108e0>,\n",
       "  <matplotlib.axis.XTick at 0x11a9168b0>,\n",
       "  <matplotlib.axis.XTick at 0x11a908250>,\n",
       "  <matplotlib.axis.XTick at 0x11a908e20>],\n",
       " [Text(0, 1, 'edible'),\n",
       "  Text(1, 1, 'cap-shape_c'),\n",
       "  Text(2, 1, 'cap-shape_f'),\n",
       "  Text(3, 1, 'cap-shape_k'),\n",
       "  Text(4, 1, 'cap-shape_s'),\n",
       "  Text(5, 1, 'cap-shape_x'),\n",
       "  Text(6, 1, 'cap-surface_g'),\n",
       "  Text(7, 1, 'cap-surface_s'),\n",
       "  Text(8, 1, 'cap-surface_y'),\n",
       "  Text(9, 1, 'cap-color_c'),\n",
       "  Text(10, 1, 'cap-color_e'),\n",
       "  Text(11, 1, 'cap-color_g'),\n",
       "  Text(12, 1, 'cap-color_n'),\n",
       "  Text(13, 1, 'cap-color_p'),\n",
       "  Text(14, 1, 'cap-color_w'),\n",
       "  Text(15, 1, 'cap-color_y'),\n",
       "  Text(16, 1, 'bruises_t'),\n",
       "  Text(17, 1, 'odor_c'),\n",
       "  Text(18, 1, 'odor_f'),\n",
       "  Text(19, 1, 'odor_l'),\n",
       "  Text(20, 1, 'odor_m'),\n",
       "  Text(21, 1, 'odor_n'),\n",
       "  Text(22, 1, 'odor_p'),\n",
       "  Text(23, 1, 'gill-attachment_f'),\n",
       "  Text(24, 1, 'gill-spacing_w'),\n",
       "  Text(25, 1, 'gill-size_n'),\n",
       "  Text(26, 1, 'gill-color_h'),\n",
       "  Text(27, 1, 'gill-color_k'),\n",
       "  Text(28, 1, 'gill-color_n'),\n",
       "  Text(29, 1, 'gill-color_p'),\n",
       "  Text(30, 1, 'gill-color_r'),\n",
       "  Text(31, 1, 'gill-color_u'),\n",
       "  Text(32, 1, 'gill-color_w'),\n",
       "  Text(33, 1, 'gill-color_y'),\n",
       "  Text(34, 1, 'stalk-shape_t'),\n",
       "  Text(35, 1, 'stalk-root_c'),\n",
       "  Text(36, 1, 'stalk-root_e'),\n",
       "  Text(37, 1, 'stalk-root_r'),\n",
       "  Text(38, 1, 'stalk-surface-above-ring_k'),\n",
       "  Text(39, 1, 'stalk-surface-above-ring_s'),\n",
       "  Text(40, 1, 'stalk-surface-above-ring_y'),\n",
       "  Text(41, 1, 'stalk-surface-below-ring_k'),\n",
       "  Text(42, 1, 'stalk-surface-below-ring_s'),\n",
       "  Text(43, 1, 'stalk-surface-below-ring_y'),\n",
       "  Text(44, 1, 'stalk-color-above-ring_g'),\n",
       "  Text(45, 1, 'stalk-color-above-ring_n'),\n",
       "  Text(46, 1, 'stalk-color-above-ring_p'),\n",
       "  Text(47, 1, 'stalk-color-above-ring_w'),\n",
       "  Text(48, 1, 'stalk-color-above-ring_y'),\n",
       "  Text(49, 1, 'stalk-color-below-ring_g'),\n",
       "  Text(50, 1, 'stalk-color-below-ring_n'),\n",
       "  Text(51, 1, 'stalk-color-below-ring_p'),\n",
       "  Text(52, 1, 'stalk-color-below-ring_w'),\n",
       "  Text(53, 1, 'ring-number_o'),\n",
       "  Text(54, 1, 'ring-number_t'),\n",
       "  Text(55, 1, 'ring-type_p'),\n",
       "  Text(56, 1, 'spore-print-color_k'),\n",
       "  Text(57, 1, 'spore-print-color_n'),\n",
       "  Text(58, 1, 'spore-print-color_r'),\n",
       "  Text(59, 1, 'spore-print-color_u'),\n",
       "  Text(60, 1, 'spore-print-color_w'),\n",
       "  Text(61, 1, 'population_c'),\n",
       "  Text(62, 1, 'population_n'),\n",
       "  Text(63, 1, 'population_s'),\n",
       "  Text(64, 1, 'population_v'),\n",
       "  Text(65, 1, 'population_y'),\n",
       "  Text(66, 1, 'habitat_g'),\n",
       "  Text(67, 1, 'habitat_l'),\n",
       "  Text(68, 1, 'habitat_m'),\n",
       "  Text(69, 1, 'habitat_p'),\n",
       "  Text(70, 1, 'habitat_u')])"
      ]
     },
     "execution_count": 38,
     "metadata": {},
     "output_type": "execute_result"
    },
    {
     "data": {
      "text/plain": [
       "Text(0.5, 0, 'Feature')"
      ]
     },
     "execution_count": 38,
     "metadata": {},
     "output_type": "execute_result"
    },
    {
     "data": {
      "text/plain": [
       "Text(0, 0.5, 'Principal components')"
      ]
     },
     "execution_count": 38,
     "metadata": {},
     "output_type": "execute_result"
    },
    {
     "data": {
      "image/png": "[encoded data removed]",
      "text/plain": [
       "<Figure size 1152x144 with 2 Axes>"
      ]
     },
     "metadata": {
      "needs_background": "light"
     },
     "output_type": "display_data"
    }
   ],
   "source": [
    "plt.matshow(pca.components_, cmap='viridis')\n",
    "plt.yticks([0, 1], [\"First component\", \"Second component\"])\n",
    "plt.colorbar()\n",
    "plt.xticks(range(len(columns)),\n",
    "           columns, rotation=60, ha='left')\n",
    "plt.xlabel(\"Feature\")\n",
    "plt.ylabel(\"Principal components\")"
   ]
  },
  {
   "cell_type": "code",
   "execution_count": 39,
   "id": "e033ae9d",
   "metadata": {},
   "outputs": [
    {
     "data": {
      "text/plain": [
       "PCA()"
      ]
     },
     "execution_count": 39,
     "metadata": {},
     "output_type": "execute_result"
    },
    {
     "data": {
      "text/plain": [
       "<Figure size 432x288 with 0 Axes>"
      ]
     },
     "execution_count": 39,
     "metadata": {},
     "output_type": "execute_result"
    },
    {
     "data": {
      "text/plain": [
       "[<matplotlib.lines.Line2D at 0x11c78be50>]"
      ]
     },
     "execution_count": 39,
     "metadata": {},
     "output_type": "execute_result"
    },
    {
     "data": {
      "text/plain": [
       "(0.0, 70.0, 0.0, 1.0)"
      ]
     },
     "execution_count": 39,
     "metadata": {},
     "output_type": "execute_result"
    },
    {
     "data": {
      "text/plain": [
       "Text(0.5, 0, 'Dimensions')"
      ]
     },
     "execution_count": 39,
     "metadata": {},
     "output_type": "execute_result"
    },
    {
     "data": {
      "text/plain": [
       "Text(0, 0.5, 'Cumulative Explained Variance')"
      ]
     },
     "execution_count": 39,
     "metadata": {},
     "output_type": "execute_result"
    },
    {
     "data": {
      "text/plain": [
       "[<matplotlib.lines.Line2D at 0x11c7991c0>]"
      ]
     },
     "execution_count": 39,
     "metadata": {},
     "output_type": "execute_result"
    },
    {
     "data": {
      "text/plain": [
       "[<matplotlib.lines.Line2D at 0x11c7994c0>]"
      ]
     },
     "execution_count": 39,
     "metadata": {},
     "output_type": "execute_result"
    },
    {
     "data": {
      "text/plain": [
       "[<matplotlib.lines.Line2D at 0x11c799790>]"
      ]
     },
     "execution_count": 39,
     "metadata": {},
     "output_type": "execute_result"
    },
    {
     "data": {
      "image/png": "[encoded data removed]",
      "text/plain": [
       "<Figure size 432x288 with 1 Axes>"
      ]
     },
     "metadata": {
      "needs_background": "light"
     },
     "output_type": "display_data"
    }
   ],
   "source": [
    "pca_changed = PCA()\n",
    "# fit PCA model to mushroom data\n",
    "pca_changed.fit(X_train)\n",
    "\n",
    "# transform data onto the first two principal components\n",
    "X_pca_changed = pca_changed.transform(X_train)\n",
    "cumsum = np.cumsum(pca_changed.explained_variance_ratio_)\n",
    "d = np.argmax(cumsum >= 0.95) + 1 \n",
    "# HOML, Figure 8–8\n",
    "plt.figure(figsize=(6, 4))\n",
    "plt.plot(cumsum, linewidth=3)\n",
    "plt.axis([0, 70, 0, 1])\n",
    "plt.xlabel(\"Dimensions\")\n",
    "plt.ylabel(\"Cumulative Explained Variance\")\n",
    "plt.plot([d, d], [0, 0.95], \"k:\")\n",
    "plt.plot([0, d], [0.95, 0.95], \"k:\")\n",
    "plt.plot(d, 0.95, \"ko\")\n",
    "#plt.annotate(\"Elbow\", xy=(65, 0.85), xytext=(70, 0.7),\n",
    "#             arrowprops=dict(arrowstyle=\"->\"))\n",
    "plt.grid(True)\n",
    "plt.show()"
   ]
  },
  {
   "cell_type": "code",
   "execution_count": 40,
   "id": "8a4c8430",
   "metadata": {},
   "outputs": [
    {
     "name": "stdout",
     "output_type": "stream",
     "text": [
      "Original shape: (4515, 70)\n",
      "Reduced shape: (4515, 30)\n"
     ]
    }
   ],
   "source": [
    "pca_30 = PCA(n_components = 30)\n",
    "X_30 = pca_30.fit(X_train)\n",
    "\n",
    "X_pca_30 = pca_30.transform(X_train)\n",
    "\n",
    "print(\"Original shape: {}\".format(str(X_train.shape)))\n",
    "print(\"Reduced shape: {}\".format(str(X_pca_30.shape)))"
   ]
  },
  {
   "cell_type": "markdown",
   "id": "500904b2",
   "metadata": {},
   "source": [
    "## K-Means Clustering ##"
   ]
  },
  {
   "cell_type": "markdown",
   "id": "cee29ff3",
   "metadata": {},
   "source": [
    "### Finding Optimal Number of Clusters ###"
   ]
  },
  {
   "cell_type": "code",
   "execution_count": 41,
   "id": "58a7020a",
   "metadata": {},
   "outputs": [
    {
     "data": {
      "text/plain": [
       "<Figure size 576x252 with 0 Axes>"
      ]
     },
     "execution_count": 41,
     "metadata": {},
     "output_type": "execute_result"
    },
    {
     "data": {
      "text/plain": [
       "[<matplotlib.lines.Line2D at 0x11cc7b8b0>]"
      ]
     },
     "execution_count": 41,
     "metadata": {},
     "output_type": "execute_result"
    },
    {
     "data": {
      "text/plain": [
       "Text(0.5, 0, '$k$')"
      ]
     },
     "execution_count": 41,
     "metadata": {},
     "output_type": "execute_result"
    },
    {
     "data": {
      "text/plain": [
       "Text(0, 0.5, 'Inertia')"
      ]
     },
     "execution_count": 41,
     "metadata": {},
     "output_type": "execute_result"
    },
    {
     "data": {
      "image/png": "[encoded data removed]",
      "text/plain": [
       "<Figure size 576x252 with 1 Axes>"
      ]
     },
     "metadata": {
      "needs_background": "light"
     },
     "output_type": "display_data"
    }
   ],
   "source": [
    "from sklearn.cluster import KMeans\n",
    "\n",
    "# HOML, Figure 9–8\n",
    "\n",
    "kmeans_per_k = [KMeans(n_clusters=k, random_state=42).fit(X)\n",
    "                for k in range(1, 50)]\n",
    "inertias = [model.inertia_ for model in kmeans_per_k]\n",
    "\n",
    "plt.figure(figsize=(8, 3.5))\n",
    "plt.plot(range(1, 50), inertias, \"bo-\")\n",
    "plt.xlabel(\"$k$\")\n",
    "plt.ylabel(\"Inertia\")\n",
    "#plt.annotate(\"\", xy=(4, inertias[3]), xytext=(4.45, 650),\n",
    "#             arrowprops=dict(facecolor='black', shrink=0.1))\n",
    "#plt.text(4.5, 650, \"Elbow\", horizontalalignment=\"center\")\n",
    "#plt.axis([1, 8.5, 0, 1300])\n",
    "plt.grid()\n",
    "plt.show()"
   ]
  },
  {
   "cell_type": "markdown",
   "id": "ad064fb5",
   "metadata": {},
   "source": [
    "### K-Means ###"
   ]
  },
  {
   "cell_type": "code",
   "execution_count": 42,
   "id": "4e806265",
   "metadata": {},
   "outputs": [],
   "source": [
    "kmeans = KMeans(n_clusters = 3, random_state = 42, n_init = 10)\n",
    "kmeans_30 = KMeans(n_clusters = 3, random_state = 42, n_init = 10)\n",
    "y_pred = kmeans.fit_predict(X_pca)\n",
    "y_pred_30 = kmeans_30.fit_predict(X_pca_30)\n"
   ]
  },
  {
   "cell_type": "code",
   "execution_count": 43,
   "id": "df946cab",
   "metadata": {},
   "outputs": [
    {
     "data": {
      "text/plain": [
       "<Figure size 576x288 with 0 Axes>"
      ]
     },
     "execution_count": 43,
     "metadata": {},
     "output_type": "execute_result"
    },
    {
     "data": {
      "image/png": "[encoded data removed]",
      "text/plain": [
       "<Figure size 576x288 with 1 Axes>"
      ]
     },
     "metadata": {
      "needs_background": "light"
     },
     "output_type": "display_data"
    }
   ],
   "source": [
    "# HOML, Figure 9–2\n",
    "def plot_clusters(X_pca, y=None):\n",
    "    plt.scatter(X_pca[y_pred == 0,0], X_pca[y_pred == 0,1], c='red', s=10, label = 'not edible')\n",
    "    plt.scatter(X_pca[y_pred == 1,0], X_pca[y_pred == 1,1], c='blue', s=10, label = 'edible')\n",
    "    plt.xlabel(\"$x_1$\")\n",
    "    plt.ylabel(\"$x_2$\", rotation=0)\n",
    "    plt.legend()\n",
    "\n",
    "plt.figure(figsize=(8, 4))\n",
    "#plt.xlim(-7.5,10)\n",
    "#plt.ylim(-4,8)\n",
    "plot_clusters(X_pca)\n",
    "plt.gca().set_axisbelow(True)\n",
    "plt.grid()\n",
    "plt.show()\n"
   ]
  },
  {
   "cell_type": "code",
   "execution_count": 44,
   "id": "d73d9b5e",
   "metadata": {},
   "outputs": [
    {
     "data": {
      "text/plain": [
       "0.6058718846443973"
      ]
     },
     "execution_count": 44,
     "metadata": {},
     "output_type": "execute_result"
    },
    {
     "data": {
      "text/plain": [
       "0.6027496827903496"
      ]
     },
     "execution_count": 44,
     "metadata": {},
     "output_type": "execute_result"
    }
   ],
   "source": [
    "from sklearn.metrics import roc_auc_score\n",
    "#when 2 dimensions\n",
    "roc_auc_score(y_train, y_pred)\n",
    "\n",
    "#when 30 dimensions\n",
    "roc_auc_score(y_train, y_pred_30)"
   ]
  },
  {
   "cell_type": "code",
   "execution_count": 45,
   "id": "c4fff775",
   "metadata": {},
   "outputs": [
    {
     "data": {
      "text/plain": [
       "-1115.829755189636"
      ]
     },
     "execution_count": 45,
     "metadata": {},
     "output_type": "execute_result"
    },
    {
     "data": {
      "text/plain": [
       "-22871.293189942942"
      ]
     },
     "execution_count": 45,
     "metadata": {},
     "output_type": "execute_result"
    }
   ],
   "source": [
    "#when 2 dimensions\n",
    "kmeans.score(X_pca)\n",
    "\n",
    "#when 30 dimensions\n",
    "kmeans_30.score(X_pca_30)"
   ]
  },
  {
   "cell_type": "code",
   "execution_count": 46,
   "id": "35ba83a5",
   "metadata": {},
   "outputs": [
    {
     "data": {
      "text/plain": [
       "KMeans(init='random', n_clusters=2, n_init=1, random_state=42)"
      ]
     },
     "execution_count": 46,
     "metadata": {},
     "output_type": "execute_result"
    },
    {
     "data": {
      "text/plain": [
       "KMeans(init='random', n_clusters=3, n_init=1, random_state=42)"
      ]
     },
     "execution_count": 46,
     "metadata": {},
     "output_type": "execute_result"
    },
    {
     "data": {
      "text/plain": [
       "KMeans(init='random', n_clusters=4, n_init=1, random_state=42)"
      ]
     },
     "execution_count": 46,
     "metadata": {},
     "output_type": "execute_result"
    },
    {
     "data": {
      "text/plain": [
       "<Figure size 720x576 with 0 Axes>"
      ]
     },
     "execution_count": 46,
     "metadata": {},
     "output_type": "execute_result"
    },
    {
     "data": {
      "text/plain": [
       "<AxesSubplot:>"
      ]
     },
     "execution_count": 46,
     "metadata": {},
     "output_type": "execute_result"
    },
    {
     "data": {
      "text/plain": [
       "Text(0, 0.5, '$x_2$')"
      ]
     },
     "execution_count": 46,
     "metadata": {},
     "output_type": "execute_result"
    },
    {
     "data": {
      "text/plain": [
       "Text(0.5, 1.0, 'Results')"
      ]
     },
     "execution_count": 46,
     "metadata": {},
     "output_type": "execute_result"
    },
    {
     "data": {
      "text/plain": [
       "<Figure size 720x576 with 0 Axes>"
      ]
     },
     "execution_count": 46,
     "metadata": {},
     "output_type": "execute_result"
    },
    {
     "data": {
      "text/plain": [
       "<AxesSubplot:>"
      ]
     },
     "execution_count": 46,
     "metadata": {},
     "output_type": "execute_result"
    },
    {
     "data": {
      "text/plain": [
       "Text(0, 0.5, '$x_2$')"
      ]
     },
     "execution_count": 46,
     "metadata": {},
     "output_type": "execute_result"
    },
    {
     "data": {
      "text/plain": [
       "Text(0.5, 1.0, 'Results')"
      ]
     },
     "execution_count": 46,
     "metadata": {},
     "output_type": "execute_result"
    },
    {
     "data": {
      "text/plain": [
       "<Figure size 720x576 with 0 Axes>"
      ]
     },
     "execution_count": 46,
     "metadata": {},
     "output_type": "execute_result"
    },
    {
     "data": {
      "text/plain": [
       "<AxesSubplot:>"
      ]
     },
     "execution_count": 46,
     "metadata": {},
     "output_type": "execute_result"
    },
    {
     "data": {
      "text/plain": [
       "Text(0, 0.5, '$x_2$')"
      ]
     },
     "execution_count": 46,
     "metadata": {},
     "output_type": "execute_result"
    },
    {
     "data": {
      "text/plain": [
       "Text(0.5, 1.0, 'Results')"
      ]
     },
     "execution_count": 46,
     "metadata": {},
     "output_type": "execute_result"
    },
    {
     "data": {
      "image/png": "[encoded data removed]",
      "text/plain": [
       "<Figure size 720x576 with 1 Axes>"
      ]
     },
     "metadata": {},
     "output_type": "display_data"
    },
    {
     "data": {
      "image/png": "[encoded data removed]",
      "text/plain": [
       "<Figure size 720x576 with 1 Axes>"
      ]
     },
     "metadata": {},
     "output_type": "display_data"
    },
    {
     "data": {
      "image/png": "[encoded data removed]",
      "text/plain": [
       "<Figure size 720x576 with 1 Axes>"
      ]
     },
     "metadata": {},
     "output_type": "display_data"
    }
   ],
   "source": [
    "def plot_data(X_pca):\n",
    "    plt.plot(X_pca[:, 0], X_pca[:, 1], 'k.', markersize=2)\n",
    "    \n",
    "def plot_centroids(centroids, weights=None, circle_color='w', cross_color='k'):\n",
    "    if weights is not None:\n",
    "        centroids = centroids[weights > weights.max() / 10]\n",
    "    plt.scatter(centroids[:, 0], centroids[:, 1],\n",
    "                marker='o', s=35, linewidths=8,\n",
    "                color=circle_color, zorder=10, alpha=0.9)\n",
    "    plt.scatter(centroids[:, 0], centroids[:, 1],\n",
    "                marker='x', s=2, linewidths=12,\n",
    "                color=cross_color, zorder=11, alpha=1)\n",
    "\n",
    "def plot_decision_boundaries(clusterer, X, resolution=1000, show_centroids=True,\n",
    "                             show_xlabels=True, show_ylabels=True):\n",
    "    mins = X.min(axis=0) - 0.1\n",
    "    maxs = X.max(axis=0) + 0.1\n",
    "    xx, yy = np.meshgrid(np.linspace(mins[0], maxs[0], resolution),\n",
    "                         np.linspace(mins[1], maxs[1], resolution))\n",
    "    Z = clusterer.predict(np.c_[xx.ravel(), yy.ravel()])\n",
    "    Z = Z.reshape(xx.shape)\n",
    "\n",
    "    plt.contourf(Z, extent=(mins[0], maxs[0], mins[1], maxs[1]),\n",
    "                cmap=\"Pastel2\")\n",
    "    plt.contour(Z, extent=(mins[0], maxs[0], mins[1], maxs[1]),\n",
    "                linewidths=1, colors='k')\n",
    "    plot_data(X)\n",
    "    if show_centroids:\n",
    "        plot_centroids(clusterer.cluster_centers_)\n",
    "\n",
    "    if show_xlabels:\n",
    "        plt.xlabel(\"$x_1$\")\n",
    "    else:\n",
    "        plt.tick_params(labelbottom=False)\n",
    "    if show_ylabels:\n",
    "        plt.ylabel(\"$x_2$\", rotation=0)\n",
    "    else:\n",
    "        plt.tick_params(labelleft=False)\n",
    "\n",
    "# HOML, Figure 9–4\n",
    "kmeans_iter1 = KMeans(n_clusters=2, init=\"random\", n_init=1, random_state=42)\n",
    "kmeans_iter1.fit(X_pca)\n",
    "\n",
    "kmeans_iter2 = KMeans(n_clusters=3, init=\"random\", n_init=1, random_state=42)\n",
    "kmeans_iter2.fit(X_pca)\n",
    "\n",
    "kmeans_iter3 = KMeans(n_clusters=4, init=\"random\", n_init=1, random_state=42)\n",
    "kmeans_iter3.fit(X_pca)\n",
    "\n",
    "plt.figure(figsize=(10, 8))\n",
    "\n",
    "plt.subplot(321)\n",
    "plot_data(X_pca)\n",
    "plot_centroids(kmeans_iter1.cluster_centers_, circle_color='r', cross_color='w')\n",
    "plot_decision_boundaries(kmeans_iter1, X_pca, show_xlabels=False,\n",
    "                         show_ylabels=False)\n",
    "plt.ylabel(\"$x_2$\", rotation=0)\n",
    "plt.tick_params(labelbottom=False)\n",
    "plt.title(\"Results\")\n",
    "\n",
    "plt.figure(figsize=(10, 8))\n",
    "\n",
    "plt.subplot(321)\n",
    "plot_data(X_pca)\n",
    "plot_centroids(kmeans_iter2.cluster_centers_, circle_color='r', cross_color='w')\n",
    "plot_decision_boundaries(kmeans_iter2, X_pca, show_xlabels=False,\n",
    "                         show_ylabels=False)\n",
    "plt.ylabel(\"$x_2$\", rotation=0)\n",
    "plt.tick_params(labelbottom=False)\n",
    "plt.title(\"Results\")\n",
    "\n",
    "plt.figure(figsize=(10, 8))\n",
    "\n",
    "plt.subplot(321)\n",
    "plot_data(X_pca)\n",
    "plot_centroids(kmeans_iter3.cluster_centers_, circle_color='r', cross_color='w')\n",
    "plot_decision_boundaries(kmeans_iter3, X_pca, show_xlabels=False,\n",
    "                         show_ylabels=False)\n",
    "plt.ylabel(\"$x_2$\", rotation=0)\n",
    "plt.tick_params(labelbottom=False)\n",
    "plt.title(\"Results\")"
   ]
  },
  {
   "cell_type": "code",
   "execution_count": 47,
   "id": "8dbef70e",
   "metadata": {},
   "outputs": [],
   "source": [
    "X_train_pca = pca.fit_transform(X_train)\n",
    "X_test_pca = pca.transform(X_test)"
   ]
  },
  {
   "cell_type": "code",
   "execution_count": 48,
   "id": "e8ae7d6e",
   "metadata": {},
   "outputs": [
    {
     "data": {
      "text/plain": [
       "RandomForestClassifier()"
      ]
     },
     "execution_count": 48,
     "metadata": {},
     "output_type": "execute_result"
    },
    {
     "data": {
      "text/plain": [
       "0.9220549158547388"
      ]
     },
     "execution_count": 48,
     "metadata": {},
     "output_type": "execute_result"
    }
   ],
   "source": [
    "X_train_reduced = kmeans.transform(X_train_pca)\n",
    "X_test_reduced = kmeans.transform(X_test_pca)\n",
    "\n",
    "forest = RandomForestClassifier()\n",
    "forest.fit(X_train_reduced, y_train)\n",
    "\n",
    "forest.score(X_test_reduced, y_test)"
   ]
  },
  {
   "cell_type": "markdown",
   "id": "925f6da3",
   "metadata": {},
   "source": [
    "# Post Presentation Section"
   ]
  },
  {
   "cell_type": "markdown",
   "id": "c7465621",
   "metadata": {},
   "source": [
    "We wanted to see if encoding would create different insights with our series of models"
   ]
  },
  {
   "cell_type": "code",
   "execution_count": 49,
   "id": "abbd8e0e",
   "metadata": {},
   "outputs": [],
   "source": [
    "df_new =pd.read_csv('mushrooms.csv', low_memory = False)"
   ]
  },
  {
   "cell_type": "code",
   "execution_count": 50,
   "id": "6ae94725",
   "metadata": {},
   "outputs": [],
   "source": [
    "df_new.drop(\"veil-type\",axis=1,inplace=True)"
   ]
  },
  {
   "cell_type": "code",
   "execution_count": 51,
   "id": "6c20dba2",
   "metadata": {},
   "outputs": [],
   "source": [
    "df_new = df_new[df_new['stalk-root'] != '?']"
   ]
  },
  {
   "cell_type": "code",
   "execution_count": 52,
   "id": "104291f4",
   "metadata": {},
   "outputs": [],
   "source": [
    "df_new['class'] = (df_new['class'] == 'e') + 0.0"
   ]
  },
  {
   "cell_type": "code",
   "execution_count": 53,
   "id": "55375f3a",
   "metadata": {},
   "outputs": [
    {
     "data": {
      "text/html": [
       "<div>\n",
       "<style scoped>\n",
       "    .dataframe tbody tr th:only-of-type {\n",
       "        vertical-align: middle;\n",
       "    }\n",
       "\n",
       "    .dataframe tbody tr th {\n",
       "        vertical-align: top;\n",
       "    }\n",
       "\n",
       "    .dataframe thead th {\n",
       "        text-align: right;\n",
       "    }\n",
       "</style>\n",
       "<table border=\"1\" class=\"dataframe\">\n",
       "  <thead>\n",
       "    <tr style=\"text-align: right;\">\n",
       "      <th></th>\n",
       "      <th>class</th>\n",
       "      <th>cap-shape</th>\n",
       "      <th>cap-surface</th>\n",
       "      <th>cap-color</th>\n",
       "      <th>bruises</th>\n",
       "      <th>odor</th>\n",
       "      <th>gill-attachment</th>\n",
       "      <th>gill-spacing</th>\n",
       "      <th>gill-size</th>\n",
       "      <th>gill-color</th>\n",
       "      <th>...</th>\n",
       "      <th>stalk-surface-above-ring</th>\n",
       "      <th>stalk-surface-below-ring</th>\n",
       "      <th>stalk-color-above-ring</th>\n",
       "      <th>stalk-color-below-ring</th>\n",
       "      <th>veil-color</th>\n",
       "      <th>ring-number</th>\n",
       "      <th>ring-type</th>\n",
       "      <th>spore-print-color</th>\n",
       "      <th>population</th>\n",
       "      <th>habitat</th>\n",
       "    </tr>\n",
       "  </thead>\n",
       "  <tbody>\n",
       "    <tr>\n",
       "      <th>0</th>\n",
       "      <td>0.0</td>\n",
       "      <td>x</td>\n",
       "      <td>s</td>\n",
       "      <td>n</td>\n",
       "      <td>t</td>\n",
       "      <td>p</td>\n",
       "      <td>f</td>\n",
       "      <td>c</td>\n",
       "      <td>n</td>\n",
       "      <td>k</td>\n",
       "      <td>...</td>\n",
       "      <td>s</td>\n",
       "      <td>s</td>\n",
       "      <td>w</td>\n",
       "      <td>w</td>\n",
       "      <td>w</td>\n",
       "      <td>o</td>\n",
       "      <td>p</td>\n",
       "      <td>k</td>\n",
       "      <td>s</td>\n",
       "      <td>u</td>\n",
       "    </tr>\n",
       "    <tr>\n",
       "      <th>1</th>\n",
       "      <td>1.0</td>\n",
       "      <td>x</td>\n",
       "      <td>s</td>\n",
       "      <td>y</td>\n",
       "      <td>t</td>\n",
       "      <td>a</td>\n",
       "      <td>f</td>\n",
       "      <td>c</td>\n",
       "      <td>b</td>\n",
       "      <td>k</td>\n",
       "      <td>...</td>\n",
       "      <td>s</td>\n",
       "      <td>s</td>\n",
       "      <td>w</td>\n",
       "      <td>w</td>\n",
       "      <td>w</td>\n",
       "      <td>o</td>\n",
       "      <td>p</td>\n",
       "      <td>n</td>\n",
       "      <td>n</td>\n",
       "      <td>g</td>\n",
       "    </tr>\n",
       "    <tr>\n",
       "      <th>2</th>\n",
       "      <td>1.0</td>\n",
       "      <td>b</td>\n",
       "      <td>s</td>\n",
       "      <td>w</td>\n",
       "      <td>t</td>\n",
       "      <td>l</td>\n",
       "      <td>f</td>\n",
       "      <td>c</td>\n",
       "      <td>b</td>\n",
       "      <td>n</td>\n",
       "      <td>...</td>\n",
       "      <td>s</td>\n",
       "      <td>s</td>\n",
       "      <td>w</td>\n",
       "      <td>w</td>\n",
       "      <td>w</td>\n",
       "      <td>o</td>\n",
       "      <td>p</td>\n",
       "      <td>n</td>\n",
       "      <td>n</td>\n",
       "      <td>m</td>\n",
       "    </tr>\n",
       "    <tr>\n",
       "      <th>3</th>\n",
       "      <td>0.0</td>\n",
       "      <td>x</td>\n",
       "      <td>y</td>\n",
       "      <td>w</td>\n",
       "      <td>t</td>\n",
       "      <td>p</td>\n",
       "      <td>f</td>\n",
       "      <td>c</td>\n",
       "      <td>n</td>\n",
       "      <td>n</td>\n",
       "      <td>...</td>\n",
       "      <td>s</td>\n",
       "      <td>s</td>\n",
       "      <td>w</td>\n",
       "      <td>w</td>\n",
       "      <td>w</td>\n",
       "      <td>o</td>\n",
       "      <td>p</td>\n",
       "      <td>k</td>\n",
       "      <td>s</td>\n",
       "      <td>u</td>\n",
       "    </tr>\n",
       "    <tr>\n",
       "      <th>4</th>\n",
       "      <td>1.0</td>\n",
       "      <td>x</td>\n",
       "      <td>s</td>\n",
       "      <td>g</td>\n",
       "      <td>f</td>\n",
       "      <td>n</td>\n",
       "      <td>f</td>\n",
       "      <td>w</td>\n",
       "      <td>b</td>\n",
       "      <td>k</td>\n",
       "      <td>...</td>\n",
       "      <td>s</td>\n",
       "      <td>s</td>\n",
       "      <td>w</td>\n",
       "      <td>w</td>\n",
       "      <td>w</td>\n",
       "      <td>o</td>\n",
       "      <td>e</td>\n",
       "      <td>n</td>\n",
       "      <td>a</td>\n",
       "      <td>g</td>\n",
       "    </tr>\n",
       "  </tbody>\n",
       "</table>\n",
       "<p>5 rows × 22 columns</p>\n",
       "</div>"
      ],
      "text/plain": [
       "   class cap-shape cap-surface cap-color bruises odor gill-attachment  \\\n",
       "0    0.0         x           s         n       t    p               f   \n",
       "1    1.0         x           s         y       t    a               f   \n",
       "2    1.0         b           s         w       t    l               f   \n",
       "3    0.0         x           y         w       t    p               f   \n",
       "4    1.0         x           s         g       f    n               f   \n",
       "\n",
       "  gill-spacing gill-size gill-color  ... stalk-surface-above-ring  \\\n",
       "0            c         n          k  ...                        s   \n",
       "1            c         b          k  ...                        s   \n",
       "2            c         b          n  ...                        s   \n",
       "3            c         n          n  ...                        s   \n",
       "4            w         b          k  ...                        s   \n",
       "\n",
       "  stalk-surface-below-ring stalk-color-above-ring stalk-color-below-ring  \\\n",
       "0                        s                      w                      w   \n",
       "1                        s                      w                      w   \n",
       "2                        s                      w                      w   \n",
       "3                        s                      w                      w   \n",
       "4                        s                      w                      w   \n",
       "\n",
       "  veil-color ring-number ring-type spore-print-color population habitat  \n",
       "0          w           o         p                 k          s       u  \n",
       "1          w           o         p                 n          n       g  \n",
       "2          w           o         p                 n          n       m  \n",
       "3          w           o         p                 k          s       u  \n",
       "4          w           o         e                 n          a       g  \n",
       "\n",
       "[5 rows x 22 columns]"
      ]
     },
     "execution_count": 53,
     "metadata": {},
     "output_type": "execute_result"
    }
   ],
   "source": [
    "df_new.head()"
   ]
  },
  {
   "cell_type": "code",
   "execution_count": 54,
   "id": "ac02ba50",
   "metadata": {},
   "outputs": [],
   "source": [
    "labelencoder=LabelEncoder()\n",
    "for col in df_new.columns:\n",
    "    df_new[col] = labelencoder.fit_transform(df_new[col])"
   ]
  },
  {
   "cell_type": "code",
   "execution_count": 55,
   "id": "bebabc83",
   "metadata": {},
   "outputs": [
    {
     "data": {
      "text/plain": [
       "array([[<AxesSubplot:title={'center':'class'}>,\n",
       "        <AxesSubplot:title={'center':'cap-shape'}>,\n",
       "        <AxesSubplot:title={'center':'cap-surface'}>,\n",
       "        <AxesSubplot:title={'center':'cap-color'}>,\n",
       "        <AxesSubplot:title={'center':'bruises'}>],\n",
       "       [<AxesSubplot:title={'center':'odor'}>,\n",
       "        <AxesSubplot:title={'center':'gill-attachment'}>,\n",
       "        <AxesSubplot:title={'center':'gill-spacing'}>,\n",
       "        <AxesSubplot:title={'center':'gill-size'}>,\n",
       "        <AxesSubplot:title={'center':'gill-color'}>],\n",
       "       [<AxesSubplot:title={'center':'stalk-shape'}>,\n",
       "        <AxesSubplot:title={'center':'stalk-root'}>,\n",
       "        <AxesSubplot:title={'center':'stalk-surface-above-ring'}>,\n",
       "        <AxesSubplot:title={'center':'stalk-surface-below-ring'}>,\n",
       "        <AxesSubplot:title={'center':'stalk-color-above-ring'}>],\n",
       "       [<AxesSubplot:title={'center':'stalk-color-below-ring'}>,\n",
       "        <AxesSubplot:title={'center':'veil-color'}>,\n",
       "        <AxesSubplot:title={'center':'ring-number'}>,\n",
       "        <AxesSubplot:title={'center':'ring-type'}>,\n",
       "        <AxesSubplot:title={'center':'spore-print-color'}>],\n",
       "       [<AxesSubplot:title={'center':'population'}>,\n",
       "        <AxesSubplot:title={'center':'habitat'}>, <AxesSubplot:>,\n",
       "        <AxesSubplot:>, <AxesSubplot:>]], dtype=object)"
      ]
     },
     "execution_count": 55,
     "metadata": {},
     "output_type": "execute_result"
    },
    {
     "data": {
      "image/png": "[encoded data removed]",
      "text/plain": [
       "<Figure size 1080x1080 with 25 Axes>"
      ]
     },
     "metadata": {
      "needs_background": "light"
     },
     "output_type": "display_data"
    }
   ],
   "source": [
    "df_new.hist(bins=5, figsize=(15,15))"
   ]
  },
  {
   "cell_type": "markdown",
   "id": "90a9009a",
   "metadata": {},
   "source": [
    "## RandomForestClassifier"
   ]
  },
  {
   "cell_type": "code",
   "execution_count": 56,
   "id": "2f25b539",
   "metadata": {},
   "outputs": [],
   "source": [
    "from sklearn.ensemble import RandomForestClassifier\n",
    "from sklearn.model_selection import train_test_split\n",
    "\n",
    "X = df_new[['cap-shape', 'cap-surface', 'cap-color', 'bruises', 'odor',\\\n",
    "       'gill-attachment', 'gill-spacing', 'gill-size', 'gill-color',\\\n",
    "       'stalk-shape', 'stalk-root', 'stalk-surface-above-ring',\\\n",
    "       'stalk-surface-below-ring', 'stalk-color-above-ring',\\\n",
    "       'stalk-color-below-ring', 'veil-color', 'ring-number', 'ring-type',\\\n",
    "       'spore-print-color', 'population', 'habitat']]\n",
    "\n",
    "\n",
    "y = df_new['class']"
   ]
  },
  {
   "cell_type": "code",
   "execution_count": 57,
   "id": "33f3c340",
   "metadata": {},
   "outputs": [],
   "source": [
    "X_train, X_test, y_train, y_test = train_test_split(X, y, train_size = .8, test_size= .2,\\\n",
    "                                                    random_state=42)"
   ]
  },
  {
   "cell_type": "code",
   "execution_count": 58,
   "id": "c914e4bd",
   "metadata": {},
   "outputs": [
    {
     "data": {
      "text/plain": [
       "RandomForestClassifier()"
      ]
     },
     "execution_count": 58,
     "metadata": {},
     "output_type": "execute_result"
    }
   ],
   "source": [
    "forest = RandomForestClassifier()\n",
    "forest.fit(X_train, y_train)"
   ]
  },
  {
   "cell_type": "markdown",
   "id": "937312f8",
   "metadata": {},
   "source": [
    "## Accuracy Score (roc_auc_score)"
   ]
  },
  {
   "cell_type": "code",
   "execution_count": 59,
   "id": "5685c023",
   "metadata": {},
   "outputs": [
    {
     "data": {
      "text/plain": [
       "1.0"
      ]
     },
     "execution_count": 59,
     "metadata": {},
     "output_type": "execute_result"
    }
   ],
   "source": [
    "from sklearn.metrics import roc_auc_score\n",
    "roc_auc_score(y_test, forest.predict_proba(X_test)[:,1])"
   ]
  },
  {
   "cell_type": "code",
   "execution_count": 60,
   "id": "fcdbd5fb",
   "metadata": {},
   "outputs": [],
   "source": [
    "y_pred = forest.predict(X_test)"
   ]
  },
  {
   "cell_type": "code",
   "execution_count": 61,
   "id": "9dfdb4a5",
   "metadata": {},
   "outputs": [
    {
     "data": {
      "text/plain": [
       "1.0"
      ]
     },
     "execution_count": 61,
     "metadata": {},
     "output_type": "execute_result"
    }
   ],
   "source": [
    "from sklearn.metrics import accuracy_score\n",
    "\n",
    "accuracy_score(y_test, y_pred)\n"
   ]
  },
  {
   "cell_type": "code",
   "execution_count": 62,
   "id": "319ae0a1",
   "metadata": {},
   "outputs": [
    {
     "name": "stdout",
     "output_type": "stream",
     "text": [
      "              precision    recall  f1-score   support\n",
      "\n",
      "           0       1.00      1.00      1.00       424\n",
      "           1       1.00      1.00      1.00       705\n",
      "\n",
      "    accuracy                           1.00      1129\n",
      "   macro avg       1.00      1.00      1.00      1129\n",
      "weighted avg       1.00      1.00      1.00      1129\n",
      "\n"
     ]
    }
   ],
   "source": [
    "from sklearn.metrics import classification_report\n",
    "print(classification_report(y_test, y_pred))"
   ]
  },
  {
   "cell_type": "markdown",
   "id": "1d563510",
   "metadata": {},
   "source": [
    "## Feature Importance"
   ]
  },
  {
   "cell_type": "code",
   "execution_count": 63,
   "id": "f97ee1d5",
   "metadata": {},
   "outputs": [],
   "source": [
    "feature_names = [f\"feature {i}\" for i in range(X.shape[1])]\n",
    "importances = forest.feature_importances_"
   ]
  },
  {
   "cell_type": "code",
   "execution_count": 64,
   "id": "a0602bf3",
   "metadata": {},
   "outputs": [],
   "source": [
    "forest_importances = pd.Series(importances, index=X.columns)"
   ]
  },
  {
   "cell_type": "code",
   "execution_count": 65,
   "id": "71617fc3",
   "metadata": {},
   "outputs": [
    {
     "data": {
      "text/plain": [
       "<AxesSubplot:>"
      ]
     },
     "execution_count": 65,
     "metadata": {},
     "output_type": "execute_result"
    },
    {
     "data": {
      "image/png": "[encoded data removed]",
      "text/plain": [
       "<Figure size 432x288 with 1 Axes>"
      ]
     },
     "metadata": {
      "needs_background": "light"
     },
     "output_type": "display_data"
    }
   ],
   "source": [
    "fig, ax = plt.subplots()\n",
    "forest_importances.nlargest(10).plot.bar()"
   ]
  },
  {
   "cell_type": "code",
   "execution_count": 66,
   "id": "83167a9d",
   "metadata": {},
   "outputs": [
    {
     "data": {
      "text/plain": [
       "odor                        0.264941\n",
       "spore-print-color           0.178176\n",
       "stalk-surface-below-ring    0.070951\n",
       "stalk-shape                 0.061021\n",
       "gill-size                   0.054357\n",
       "dtype: float64"
      ]
     },
     "execution_count": 66,
     "metadata": {},
     "output_type": "execute_result"
    }
   ],
   "source": [
    "forest_importances.nlargest(5)"
   ]
  },
  {
   "cell_type": "code",
   "execution_count": 67,
   "id": "3c799406",
   "metadata": {},
   "outputs": [
    {
     "data": {
      "text/plain": [
       "<AxesSubplot:xlabel='class', ylabel='count'>"
      ]
     },
     "execution_count": 67,
     "metadata": {},
     "output_type": "execute_result"
    },
    {
     "data": {
      "image/png": "[encoded data removed]",
      "text/plain": [
       "<Figure size 432x288 with 1 Axes>"
      ]
     },
     "metadata": {
      "needs_background": "light"
     },
     "output_type": "display_data"
    }
   ],
   "source": [
    "sns.countplot(data=df_new, x=\"class\", hue=\"odor\")"
   ]
  },
  {
   "cell_type": "code",
   "execution_count": 68,
   "id": "e9b0efac",
   "metadata": {},
   "outputs": [
    {
     "data": {
      "text/plain": [
       "<AxesSubplot:xlabel='class', ylabel='count'>"
      ]
     },
     "execution_count": 68,
     "metadata": {},
     "output_type": "execute_result"
    },
    {
     "data": {
      "image/png": "[encoded data removed]",
      "text/plain": [
       "<Figure size 432x288 with 1 Axes>"
      ]
     },
     "metadata": {
      "needs_background": "light"
     },
     "output_type": "display_data"
    }
   ],
   "source": [
    "sns.countplot(data=df_new, x=\"class\", hue=\"spore-print-color\")"
   ]
  },
  {
   "cell_type": "code",
   "execution_count": 69,
   "id": "7a6737d8",
   "metadata": {},
   "outputs": [
    {
     "data": {
      "text/plain": [
       "<AxesSubplot:xlabel='class', ylabel='count'>"
      ]
     },
     "execution_count": 69,
     "metadata": {},
     "output_type": "execute_result"
    },
    {
     "data": {
      "image/png": "[encoded data removed]",
      "text/plain": [
       "<Figure size 432x288 with 1 Axes>"
      ]
     },
     "metadata": {
      "needs_background": "light"
     },
     "output_type": "display_data"
    }
   ],
   "source": [
    "sns.countplot(data=df_new, x=\"class\", hue=\"stalk-shape\")"
   ]
  },
  {
   "cell_type": "code",
   "execution_count": 70,
   "id": "7a0a0c98",
   "metadata": {},
   "outputs": [
    {
     "data": {
      "text/plain": [
       "<AxesSubplot:xlabel='class', ylabel='count'>"
      ]
     },
     "execution_count": 70,
     "metadata": {},
     "output_type": "execute_result"
    },
    {
     "data": {
      "image/png": "[encoded data removed]",
      "text/plain": [
       "<Figure size 432x288 with 1 Axes>"
      ]
     },
     "metadata": {
      "needs_background": "light"
     },
     "output_type": "display_data"
    }
   ],
   "source": [
    "sns.countplot(data=df_new, x=\"class\", hue=\"stalk-root\")"
   ]
  },
  {
   "cell_type": "code",
   "execution_count": 71,
   "id": "87970286",
   "metadata": {},
   "outputs": [
    {
     "data": {
      "text/plain": [
       "<AxesSubplot:xlabel='class', ylabel='count'>"
      ]
     },
     "execution_count": 71,
     "metadata": {},
     "output_type": "execute_result"
    },
    {
     "data": {
      "image/png": "[encoded data removed]",
      "text/plain": [
       "<Figure size 432x288 with 1 Axes>"
      ]
     },
     "metadata": {
      "needs_background": "light"
     },
     "output_type": "display_data"
    }
   ],
   "source": [
    "sns.countplot(data=df_new, x=\"class\", hue=\"stalk-surface-above-ring\")"
   ]
  },
  {
   "cell_type": "markdown",
   "id": "32b001b4",
   "metadata": {},
   "source": [
    "#### A few traits are only seen in poisonous mushrooms, leading to high performance"
   ]
  },
  {
   "cell_type": "markdown",
   "id": "50f7c63e",
   "metadata": {},
   "source": [
    "## PCA"
   ]
  },
  {
   "cell_type": "code",
   "execution_count": 72,
   "id": "91e16291",
   "metadata": {},
   "outputs": [],
   "source": [
    "scaler = StandardScaler()\n",
    "\n",
    "X_scaled = pd.DataFrame(scaler.fit_transform(X), columns=X.columns)"
   ]
  },
  {
   "cell_type": "code",
   "execution_count": 73,
   "id": "013cb040",
   "metadata": {},
   "outputs": [],
   "source": [
    "X_train, X_test, y_train, y_test = train_test_split(X_scaled, y, train_size = .8, test_size= .2,\\\n",
    "                                                    random_state=42)"
   ]
  },
  {
   "cell_type": "markdown",
   "id": "7d17fd47",
   "metadata": {},
   "source": [
    "## Create 2 Principle Component Set"
   ]
  },
  {
   "cell_type": "code",
   "execution_count": 74,
   "id": "99e1a3af",
   "metadata": {},
   "outputs": [
    {
     "data": {
      "text/plain": [
       "PCA(n_components=2)"
      ]
     },
     "execution_count": 74,
     "metadata": {},
     "output_type": "execute_result"
    },
    {
     "name": "stdout",
     "output_type": "stream",
     "text": [
      "Original shape: (4515, 21)\n",
      "Reduced shape: (4515, 2)\n"
     ]
    }
   ],
   "source": [
    "from sklearn.decomposition import PCA\n",
    "# keep the first two principal components of the data\n",
    "pca = PCA(n_components = 2)\n",
    "# fit PCA model to mushroom data\n",
    "pca.fit(X_train)\n",
    "\n",
    "# transform data onto the first two principal components\n",
    "X_pca = pca.transform(X_train)\n",
    "\n",
    "print(\"Original shape: {}\".format(str(X_train.shape)))\n",
    "print(\"Reduced shape: {}\".format(str(X_pca.shape)))"
   ]
  },
  {
   "cell_type": "code",
   "execution_count": 75,
   "id": "13e60736",
   "metadata": {},
   "outputs": [
    {
     "name": "stdout",
     "output_type": "stream",
     "text": [
      "PCA component shape: (2, 21)\n",
      "PCA components:\n",
      "[[ 0.02704786 -0.07970176  0.15525255 -0.42357032 -0.21398855  0.00661283\n",
      "   0.13420526 -0.08270443 -0.32608929 -0.19215551  0.03946488 -0.36060974\n",
      "  -0.34516401 -0.15627709 -0.15377747 -0.02348683 -0.08286208 -0.40909866\n",
      "  -0.28119405 -0.09332934  0.11870964]\n",
      " [-0.01354821 -0.05535117  0.06795875 -0.08924482  0.1745011  -0.00931244\n",
      "   0.45219943  0.15928242  0.01535233  0.12802183  0.41941608 -0.02691606\n",
      "  -0.0024093   0.35172651  0.3384783   0.09256851 -0.00334387 -0.18359291\n",
      "   0.2551024  -0.42730509  0.04774143]]\n"
     ]
    }
   ],
   "source": [
    "print(\"PCA component shape: {}\".format(pca.components_.shape))\n",
    "print(\"PCA components:\\n{}\".format(pca.components_))\n",
    "columns = list(X.columns)"
   ]
  },
  {
   "cell_type": "code",
   "execution_count": 76,
   "id": "b95a601c",
   "metadata": {},
   "outputs": [
    {
     "data": {
      "text/plain": [
       "<matplotlib.image.AxesImage at 0x11c97fc10>"
      ]
     },
     "execution_count": 76,
     "metadata": {},
     "output_type": "execute_result"
    },
    {
     "data": {
      "text/plain": [
       "([<matplotlib.axis.YTick at 0x11c964c40>,\n",
       "  <matplotlib.axis.YTick at 0x11c9644c0>],\n",
       " [Text(0, 0, 'First component'), Text(0, 1, 'Second component')])"
      ]
     },
     "execution_count": 76,
     "metadata": {},
     "output_type": "execute_result"
    },
    {
     "data": {
      "text/plain": [
       "<matplotlib.colorbar.Colorbar at 0x11defe040>"
      ]
     },
     "execution_count": 76,
     "metadata": {},
     "output_type": "execute_result"
    },
    {
     "data": {
      "text/plain": [
       "([<matplotlib.axis.XTick at 0x11c95fcd0>,\n",
       "  <matplotlib.axis.XTick at 0x11c95fca0>,\n",
       "  <matplotlib.axis.XTick at 0x11c964640>,\n",
       "  <matplotlib.axis.XTick at 0x11f9f2ac0>,\n",
       "  <matplotlib.axis.XTick at 0x11f9fb250>,\n",
       "  <matplotlib.axis.XTick at 0x11f9f2bb0>,\n",
       "  <matplotlib.axis.XTick at 0x11f9fbb50>,\n",
       "  <matplotlib.axis.XTick at 0x11fa052e0>,\n",
       "  <matplotlib.axis.XTick at 0x11fa05a30>,\n",
       "  <matplotlib.axis.XTick at 0x11fa091c0>,\n",
       "  <matplotlib.axis.XTick at 0x11fa09910>,\n",
       "  <matplotlib.axis.XTick at 0x11fa099d0>,\n",
       "  <matplotlib.axis.XTick at 0x11fa059a0>,\n",
       "  <matplotlib.axis.XTick at 0x11f9f2b80>,\n",
       "  <matplotlib.axis.XTick at 0x11fa0a6d0>,\n",
       "  <matplotlib.axis.XTick at 0x11fa0ae20>,\n",
       "  <matplotlib.axis.XTick at 0x11fa185b0>,\n",
       "  <matplotlib.axis.XTick at 0x11fa18d00>,\n",
       "  <matplotlib.axis.XTick at 0x11fa18880>,\n",
       "  <matplotlib.axis.XTick at 0x11fa0a790>,\n",
       "  <matplotlib.axis.XTick at 0x11fa1e340>],\n",
       " [Text(0, 1, 'cap-shape'),\n",
       "  Text(1, 1, 'cap-surface'),\n",
       "  Text(2, 1, 'cap-color'),\n",
       "  Text(3, 1, 'bruises'),\n",
       "  Text(4, 1, 'odor'),\n",
       "  Text(5, 1, 'gill-attachment'),\n",
       "  Text(6, 1, 'gill-spacing'),\n",
       "  Text(7, 1, 'gill-size'),\n",
       "  Text(8, 1, 'gill-color'),\n",
       "  Text(9, 1, 'stalk-shape'),\n",
       "  Text(10, 1, 'stalk-root'),\n",
       "  Text(11, 1, 'stalk-surface-above-ring'),\n",
       "  Text(12, 1, 'stalk-surface-below-ring'),\n",
       "  Text(13, 1, 'stalk-color-above-ring'),\n",
       "  Text(14, 1, 'stalk-color-below-ring'),\n",
       "  Text(15, 1, 'veil-color'),\n",
       "  Text(16, 1, 'ring-number'),\n",
       "  Text(17, 1, 'ring-type'),\n",
       "  Text(18, 1, 'spore-print-color'),\n",
       "  Text(19, 1, 'population'),\n",
       "  Text(20, 1, 'habitat')])"
      ]
     },
     "execution_count": 76,
     "metadata": {},
     "output_type": "execute_result"
    },
    {
     "data": {
      "text/plain": [
       "Text(0.5, 0, 'Feature')"
      ]
     },
     "execution_count": 76,
     "metadata": {},
     "output_type": "execute_result"
    },
    {
     "data": {
      "text/plain": [
       "Text(0, 0.5, 'Principal components')"
      ]
     },
     "execution_count": 76,
     "metadata": {},
     "output_type": "execute_result"
    },
    {
     "data": {
      "image/png": "[encoded data removed]",
      "text/plain": [
       "<Figure size 1152x144 with 2 Axes>"
      ]
     },
     "metadata": {
      "needs_background": "light"
     },
     "output_type": "display_data"
    }
   ],
   "source": [
    "plt.matshow(pca.components_, cmap='viridis')\n",
    "plt.yticks([0, 1], [\"First component\", \"Second component\"])\n",
    "plt.colorbar()\n",
    "plt.xticks(range(len(columns)),\n",
    "           columns, rotation=60, ha='left')\n",
    "plt.xlabel(\"Feature\")\n",
    "plt.ylabel(\"Principal components\")"
   ]
  },
  {
   "cell_type": "markdown",
   "id": "3d6059f6",
   "metadata": {},
   "source": [
    "## Find Optimal Dimension"
   ]
  },
  {
   "cell_type": "code",
   "execution_count": 77,
   "id": "22edfd70",
   "metadata": {},
   "outputs": [
    {
     "data": {
      "text/plain": [
       "PCA()"
      ]
     },
     "execution_count": 77,
     "metadata": {},
     "output_type": "execute_result"
    },
    {
     "data": {
      "text/plain": [
       "<Figure size 432x288 with 0 Axes>"
      ]
     },
     "execution_count": 77,
     "metadata": {},
     "output_type": "execute_result"
    },
    {
     "data": {
      "text/plain": [
       "[<matplotlib.lines.Line2D at 0x11ff957c0>]"
      ]
     },
     "execution_count": 77,
     "metadata": {},
     "output_type": "execute_result"
    },
    {
     "data": {
      "text/plain": [
       "(0.0, 30.0, 0.0, 1.0)"
      ]
     },
     "execution_count": 77,
     "metadata": {},
     "output_type": "execute_result"
    },
    {
     "data": {
      "text/plain": [
       "Text(0.5, 0, 'Dimensions')"
      ]
     },
     "execution_count": 77,
     "metadata": {},
     "output_type": "execute_result"
    },
    {
     "data": {
      "text/plain": [
       "Text(0, 0.5, 'Cumulative Explained Variance')"
      ]
     },
     "execution_count": 77,
     "metadata": {},
     "output_type": "execute_result"
    },
    {
     "data": {
      "text/plain": [
       "[<matplotlib.lines.Line2D at 0x11ff95ca0>]"
      ]
     },
     "execution_count": 77,
     "metadata": {},
     "output_type": "execute_result"
    },
    {
     "data": {
      "text/plain": [
       "[<matplotlib.lines.Line2D at 0x11ff95d60>]"
      ]
     },
     "execution_count": 77,
     "metadata": {},
     "output_type": "execute_result"
    },
    {
     "data": {
      "text/plain": [
       "[<matplotlib.lines.Line2D at 0x11ffa5130>]"
      ]
     },
     "execution_count": 77,
     "metadata": {},
     "output_type": "execute_result"
    },
    {
     "data": {
      "image/png": "[encoded data removed]",
      "text/plain": [
       "<Figure size 432x288 with 1 Axes>"
      ]
     },
     "metadata": {
      "needs_background": "light"
     },
     "output_type": "display_data"
    }
   ],
   "source": [
    "pca_changed = PCA()\n",
    "# fit PCA model to mushroom data\n",
    "pca_changed.fit(X_train)\n",
    "\n",
    "# transform data onto the first two principal components\n",
    "X_pca_changed = pca_changed.transform(X_train)\n",
    "cumsum = np.cumsum(pca_changed.explained_variance_ratio_)\n",
    "d = np.argmax(cumsum >= 0.95) + 1 \n",
    "# HOML, Figure 8–8\n",
    "plt.figure(figsize=(6, 4))\n",
    "plt.plot(cumsum, linewidth=2)\n",
    "plt.axis([0, 30, 0, 1])\n",
    "plt.xlabel(\"Dimensions\")\n",
    "plt.ylabel(\"Cumulative Explained Variance\")\n",
    "plt.plot([d, d], [0, 0.95], \"k:\")\n",
    "plt.plot([0, d], [0.95, 0.95], \"k:\")\n",
    "plt.plot(d, 0.95, \"ko\")\n",
    "#plt.annotate(\"Elbow\", xy=(65, 0.85), xytext=(70, 0.7),\n",
    "#             arrowprops=dict(arrowstyle=\"->\"))\n",
    "plt.grid(True)\n",
    "plt.show()"
   ]
  },
  {
   "cell_type": "code",
   "execution_count": 78,
   "id": "3b5d5a89",
   "metadata": {},
   "outputs": [
    {
     "data": {
      "text/plain": [
       "<Figure size 432x288 with 0 Axes>"
      ]
     },
     "execution_count": 78,
     "metadata": {},
     "output_type": "execute_result"
    },
    {
     "data": {
      "text/plain": [
       "[<matplotlib.lines.Line2D at 0x11fec2370>]"
      ]
     },
     "execution_count": 78,
     "metadata": {},
     "output_type": "execute_result"
    },
    {
     "data": {
      "text/plain": [
       "(0.0, 20.0, 0.0, 0.25)"
      ]
     },
     "execution_count": 78,
     "metadata": {},
     "output_type": "execute_result"
    },
    {
     "data": {
      "text/plain": [
       "Text(0.5, 0, 'Dimensions')"
      ]
     },
     "execution_count": 78,
     "metadata": {},
     "output_type": "execute_result"
    },
    {
     "data": {
      "text/plain": [
       "Text(0, 0.5, 'Explained Variance Ratio')"
      ]
     },
     "execution_count": 78,
     "metadata": {},
     "output_type": "execute_result"
    },
    {
     "data": {
      "image/png": "[encoded data removed]",
      "text/plain": [
       "<Figure size 432x288 with 1 Axes>"
      ]
     },
     "metadata": {
      "needs_background": "light"
     },
     "output_type": "display_data"
    }
   ],
   "source": [
    "varianceratio = pca_changed.explained_variance_ratio_\n",
    "\n",
    "plt.figure(figsize=(6, 4))\n",
    "plt.plot(varianceratio, linewidth=3)\n",
    "plt.axis([0, 20, 0, 0.25])\n",
    "plt.xlabel(\"Dimensions\")\n",
    "plt.ylabel(\"Explained Variance Ratio\")\n",
    "plt.grid(True)\n",
    "plt.show()"
   ]
  },
  {
   "cell_type": "markdown",
   "id": "1443b64d",
   "metadata": {},
   "source": [
    "## Create 15 Component Set"
   ]
  },
  {
   "cell_type": "code",
   "execution_count": 79,
   "id": "f752b0b7",
   "metadata": {},
   "outputs": [
    {
     "name": "stdout",
     "output_type": "stream",
     "text": [
      "Original shape: (4515, 21)\n",
      "Reduced shape: (4515, 15)\n"
     ]
    }
   ],
   "source": [
    "pca_15 = PCA(n_components = 15)\n",
    "X_15 = pca_15.fit(X_train)\n",
    "\n",
    "X_pca_15 = pca_15.transform(X_train)\n",
    "\n",
    "print(\"Original shape: {}\".format(str(X_train.shape)))\n",
    "print(\"Reduced shape: {}\".format(str(X_pca_15.shape)))"
   ]
  },
  {
   "cell_type": "code",
   "execution_count": 80,
   "id": "06ec8b29",
   "metadata": {},
   "outputs": [
    {
     "data": {
      "text/plain": [
       "0.34892038942552184"
      ]
     },
     "execution_count": 80,
     "metadata": {},
     "output_type": "execute_result"
    },
    {
     "data": {
      "text/plain": [
       "0.9419420064408607"
      ]
     },
     "execution_count": 80,
     "metadata": {},
     "output_type": "execute_result"
    }
   ],
   "source": [
    "#Two Components\n",
    "pca.explained_variance_ratio_.sum()\n",
    "\n",
    "#15 components\n",
    "pca_15.explained_variance_ratio_.sum()\n"
   ]
  },
  {
   "cell_type": "markdown",
   "id": "df76aa51",
   "metadata": {},
   "source": [
    "## K-Means Clustering"
   ]
  },
  {
   "cell_type": "markdown",
   "id": "45ef18a7",
   "metadata": {},
   "source": [
    "### Finding Optimal Number of Clusters for 2 Component Set ###"
   ]
  },
  {
   "cell_type": "code",
   "execution_count": 81,
   "id": "76df7deb",
   "metadata": {},
   "outputs": [
    {
     "data": {
      "text/plain": [
       "<Figure size 576x252 with 0 Axes>"
      ]
     },
     "execution_count": 81,
     "metadata": {},
     "output_type": "execute_result"
    },
    {
     "data": {
      "text/plain": [
       "[<matplotlib.lines.Line2D at 0x11ff2cd60>]"
      ]
     },
     "execution_count": 81,
     "metadata": {},
     "output_type": "execute_result"
    },
    {
     "data": {
      "text/plain": [
       "Text(0.5, 0, '$k$')"
      ]
     },
     "execution_count": 81,
     "metadata": {},
     "output_type": "execute_result"
    },
    {
     "data": {
      "text/plain": [
       "Text(0, 0.5, 'Inertia')"
      ]
     },
     "execution_count": 81,
     "metadata": {},
     "output_type": "execute_result"
    },
    {
     "data": {
      "image/png": "[encoded data removed]",
      "text/plain": [
       "<Figure size 576x252 with 1 Axes>"
      ]
     },
     "metadata": {
      "needs_background": "light"
     },
     "output_type": "display_data"
    }
   ],
   "source": [
    "from sklearn.cluster import KMeans\n",
    "\n",
    "# HOML, Figure 9–8\n",
    "\n",
    "kmeans_per_k_2 = [KMeans(n_clusters=k, random_state=42).fit(X_pca)\n",
    "                for k in range(1, 50)]\n",
    "inertias = [model.inertia_ for model in kmeans_per_k_2]\n",
    "\n",
    "plt.figure(figsize=(8, 3.5))\n",
    "plt.plot(range(1, 50), inertias, \"bo-\")\n",
    "plt.xlabel(\"$k$\")\n",
    "plt.ylabel(\"Inertia\")\n",
    "#plt.annotate(\"\", xy=(4, inertias[3]), xytext=(4.45, 650),\n",
    "#             arrowprops=dict(facecolor='black', shrink=0.1))\n",
    "#plt.text(4.5, 650, \"Elbow\", horizontalalignment=\"center\")\n",
    "#plt.axis([1, 8.5, 0, 1300])\n",
    "plt.grid()\n",
    "plt.show()"
   ]
  },
  {
   "cell_type": "markdown",
   "id": "0cf612b4",
   "metadata": {},
   "source": [
    "### Finding Optimal Number of Clusters for 15 Component Set ###"
   ]
  },
  {
   "cell_type": "code",
   "execution_count": 82,
   "id": "9ab6f3b7",
   "metadata": {},
   "outputs": [
    {
     "data": {
      "text/plain": [
       "<Figure size 576x252 with 0 Axes>"
      ]
     },
     "execution_count": 82,
     "metadata": {},
     "output_type": "execute_result"
    },
    {
     "data": {
      "text/plain": [
       "[<matplotlib.lines.Line2D at 0x11f17ae50>]"
      ]
     },
     "execution_count": 82,
     "metadata": {},
     "output_type": "execute_result"
    },
    {
     "data": {
      "text/plain": [
       "Text(0.5, 0, '$k$')"
      ]
     },
     "execution_count": 82,
     "metadata": {},
     "output_type": "execute_result"
    },
    {
     "data": {
      "text/plain": [
       "Text(0, 0.5, 'Inertia')"
      ]
     },
     "execution_count": 82,
     "metadata": {},
     "output_type": "execute_result"
    },
    {
     "data": {
      "image/png": "[encoded data removed]",
      "text/plain": [
       "<Figure size 576x252 with 1 Axes>"
      ]
     },
     "metadata": {
      "needs_background": "light"
     },
     "output_type": "display_data"
    }
   ],
   "source": [
    "from sklearn.cluster import KMeans\n",
    "\n",
    "# HOML, Figure 9–8\n",
    "\n",
    "kmeans_per_k_15 = [KMeans(n_clusters=k, random_state=42).fit(X_pca_15)\n",
    "                for k in range(1, 50)]\n",
    "inertias = [model.inertia_ for model in kmeans_per_k_15]\n",
    "\n",
    "plt.figure(figsize=(8, 3.5))\n",
    "plt.plot(range(1, 50), inertias, \"bo-\")\n",
    "plt.xlabel(\"$k$\")\n",
    "plt.ylabel(\"Inertia\")\n",
    "#plt.annotate(\"\", xy=(4, inertias[3]), xytext=(4.45, 650),\n",
    "#             arrowprops=dict(facecolor='black', shrink=0.1))\n",
    "#plt.text(4.5, 650, \"Elbow\", horizontalalignment=\"center\")\n",
    "#plt.axis([1, 8.5, 0, 1300])\n",
    "plt.grid()\n",
    "plt.show()"
   ]
  },
  {
   "cell_type": "markdown",
   "id": "65714fce",
   "metadata": {},
   "source": [
    "## Analyze Silhouette Scores for 2PC & 15PC"
   ]
  },
  {
   "cell_type": "code",
   "execution_count": 83,
   "id": "96f87111",
   "metadata": {},
   "outputs": [],
   "source": [
    "from sklearn.metrics import silhouette_score"
   ]
  },
  {
   "cell_type": "code",
   "execution_count": 84,
   "id": "bb787210",
   "metadata": {},
   "outputs": [
    {
     "data": {
      "text/plain": [
       "KMeans(n_init=1, random_state=42)"
      ]
     },
     "execution_count": 84,
     "metadata": {},
     "output_type": "execute_result"
    },
    {
     "data": {
      "text/plain": [
       "KMeans(n_init=1, random_state=42)"
      ]
     },
     "execution_count": 84,
     "metadata": {},
     "output_type": "execute_result"
    }
   ],
   "source": [
    "kmeans_2 = KMeans(n_init=1, random_state=42)\n",
    "kmeans_2.fit(X_pca)\n",
    "\n",
    "kmeans_15 = KMeans(n_init=1, random_state=42)\n",
    "kmeans_15.fit(X_pca_15)"
   ]
  },
  {
   "cell_type": "markdown",
   "id": "f6c8c113",
   "metadata": {},
   "source": [
    "### 2 PC "
   ]
  },
  {
   "cell_type": "code",
   "execution_count": 85,
   "id": "386278d3",
   "metadata": {},
   "outputs": [
    {
     "data": {
      "text/plain": [
       "0.4826782638282581"
      ]
     },
     "execution_count": 85,
     "metadata": {},
     "output_type": "execute_result"
    }
   ],
   "source": [
    "silhouette_score(X_pca, kmeans_2.labels_)"
   ]
  },
  {
   "cell_type": "code",
   "execution_count": 86,
   "id": "08e2be48",
   "metadata": {},
   "outputs": [],
   "source": [
    "silhouette_scores_2 = [silhouette_score(X_pca, kmeans_2.labels_)\n",
    "                     for model in kmeans_per_k[1:]]"
   ]
  },
  {
   "cell_type": "code",
   "execution_count": 87,
   "id": "e45ebee4",
   "metadata": {},
   "outputs": [
    {
     "data": {
      "text/plain": [
       "<Figure size 792x648 with 0 Axes>"
      ]
     },
     "execution_count": 87,
     "metadata": {},
     "output_type": "execute_result"
    },
    {
     "data": {
      "text/plain": [
       "<AxesSubplot:>"
      ]
     },
     "execution_count": 87,
     "metadata": {},
     "output_type": "execute_result"
    },
    {
     "data": {
      "text/plain": [
       "<matplotlib.collections.PolyCollection at 0x11f391d60>"
      ]
     },
     "execution_count": 87,
     "metadata": {},
     "output_type": "execute_result"
    },
    {
     "data": {
      "text/plain": [
       "<matplotlib.collections.PolyCollection at 0x11f391d90>"
      ]
     },
     "execution_count": 87,
     "metadata": {},
     "output_type": "execute_result"
    },
    {
     "data": {
      "text/plain": [
       "<matplotlib.collections.PolyCollection at 0x11f628400>"
      ]
     },
     "execution_count": 87,
     "metadata": {},
     "output_type": "execute_result"
    },
    {
     "data": {
      "text/plain": [
       "Text(0, 0.5, 'Cluster')"
      ]
     },
     "execution_count": 87,
     "metadata": {},
     "output_type": "execute_result"
    },
    {
     "data": {
      "text/plain": [
       "<matplotlib.lines.Line2D at 0x11f391c10>"
      ]
     },
     "execution_count": 87,
     "metadata": {},
     "output_type": "execute_result"
    },
    {
     "data": {
      "text/plain": [
       "Text(0.5, 1.0, '$k=3$')"
      ]
     },
     "execution_count": 87,
     "metadata": {},
     "output_type": "execute_result"
    },
    {
     "data": {
      "text/plain": [
       "<AxesSubplot:>"
      ]
     },
     "execution_count": 87,
     "metadata": {},
     "output_type": "execute_result"
    },
    {
     "data": {
      "text/plain": [
       "<matplotlib.collections.PolyCollection at 0x11bd6e490>"
      ]
     },
     "execution_count": 87,
     "metadata": {},
     "output_type": "execute_result"
    },
    {
     "data": {
      "text/plain": [
       "<matplotlib.collections.PolyCollection at 0x11bd7e8b0>"
      ]
     },
     "execution_count": 87,
     "metadata": {},
     "output_type": "execute_result"
    },
    {
     "data": {
      "text/plain": [
       "<matplotlib.collections.PolyCollection at 0x11bd7ebe0>"
      ]
     },
     "execution_count": 87,
     "metadata": {},
     "output_type": "execute_result"
    },
    {
     "data": {
      "text/plain": [
       "<matplotlib.collections.PolyCollection at 0x11bd7efa0>"
      ]
     },
     "execution_count": 87,
     "metadata": {},
     "output_type": "execute_result"
    },
    {
     "data": {
      "text/plain": [
       "<matplotlib.lines.Line2D at 0x11bd6e5b0>"
      ]
     },
     "execution_count": 87,
     "metadata": {},
     "output_type": "execute_result"
    },
    {
     "data": {
      "text/plain": [
       "Text(0.5, 1.0, '$k=4$')"
      ]
     },
     "execution_count": 87,
     "metadata": {},
     "output_type": "execute_result"
    },
    {
     "data": {
      "text/plain": [
       "<AxesSubplot:>"
      ]
     },
     "execution_count": 87,
     "metadata": {},
     "output_type": "execute_result"
    },
    {
     "data": {
      "text/plain": [
       "<matplotlib.collections.PolyCollection at 0x11bdbe070>"
      ]
     },
     "execution_count": 87,
     "metadata": {},
     "output_type": "execute_result"
    },
    {
     "data": {
      "text/plain": [
       "<matplotlib.collections.PolyCollection at 0x11bdcc400>"
      ]
     },
     "execution_count": 87,
     "metadata": {},
     "output_type": "execute_result"
    },
    {
     "data": {
      "text/plain": [
       "<matplotlib.collections.PolyCollection at 0x11bdcc6d0>"
      ]
     },
     "execution_count": 87,
     "metadata": {},
     "output_type": "execute_result"
    },
    {
     "data": {
      "text/plain": [
       "<matplotlib.collections.PolyCollection at 0x11bdcc6a0>"
      ]
     },
     "execution_count": 87,
     "metadata": {},
     "output_type": "execute_result"
    },
    {
     "data": {
      "text/plain": [
       "<matplotlib.collections.PolyCollection at 0x11bdcca60>"
      ]
     },
     "execution_count": 87,
     "metadata": {},
     "output_type": "execute_result"
    },
    {
     "data": {
      "text/plain": [
       "Text(0, 0.5, 'Cluster')"
      ]
     },
     "execution_count": 87,
     "metadata": {},
     "output_type": "execute_result"
    },
    {
     "data": {
      "text/plain": [
       "[<matplotlib.axis.XTick at 0x11bd8fe20>,\n",
       " <matplotlib.axis.XTick at 0x11bd8fdf0>,\n",
       " <matplotlib.axis.XTick at 0x11bd8fcd0>,\n",
       " <matplotlib.axis.XTick at 0x11bde77c0>,\n",
       " <matplotlib.axis.XTick at 0x11bde2070>,\n",
       " <matplotlib.axis.XTick at 0x11bde26a0>,\n",
       " <matplotlib.axis.XTick at 0x11bde2df0>]"
      ]
     },
     "execution_count": 87,
     "metadata": {},
     "output_type": "execute_result"
    },
    {
     "data": {
      "text/plain": [
       "Text(0.5, 0, 'Silhouette Coefficient')"
      ]
     },
     "execution_count": 87,
     "metadata": {},
     "output_type": "execute_result"
    },
    {
     "data": {
      "text/plain": [
       "<matplotlib.lines.Line2D at 0x11bde2b50>"
      ]
     },
     "execution_count": 87,
     "metadata": {},
     "output_type": "execute_result"
    },
    {
     "data": {
      "text/plain": [
       "Text(0.5, 1.0, '$k=5$')"
      ]
     },
     "execution_count": 87,
     "metadata": {},
     "output_type": "execute_result"
    },
    {
     "data": {
      "text/plain": [
       "<AxesSubplot:>"
      ]
     },
     "execution_count": 87,
     "metadata": {},
     "output_type": "execute_result"
    },
    {
     "data": {
      "text/plain": [
       "<matplotlib.collections.PolyCollection at 0x11be0e5e0>"
      ]
     },
     "execution_count": 87,
     "metadata": {},
     "output_type": "execute_result"
    },
    {
     "data": {
      "text/plain": [
       "<matplotlib.collections.PolyCollection at 0x11be1ca00>"
      ]
     },
     "execution_count": 87,
     "metadata": {},
     "output_type": "execute_result"
    },
    {
     "data": {
      "text/plain": [
       "<matplotlib.collections.PolyCollection at 0x11be1cd60>"
      ]
     },
     "execution_count": 87,
     "metadata": {},
     "output_type": "execute_result"
    },
    {
     "data": {
      "text/plain": [
       "<matplotlib.collections.PolyCollection at 0x11f1aa160>"
      ]
     },
     "execution_count": 87,
     "metadata": {},
     "output_type": "execute_result"
    },
    {
     "data": {
      "text/plain": [
       "<matplotlib.collections.PolyCollection at 0x11f1aa520>"
      ]
     },
     "execution_count": 87,
     "metadata": {},
     "output_type": "execute_result"
    },
    {
     "data": {
      "text/plain": [
       "<matplotlib.collections.PolyCollection at 0x11f1aa8e0>"
      ]
     },
     "execution_count": 87,
     "metadata": {},
     "output_type": "execute_result"
    },
    {
     "data": {
      "text/plain": [
       "[<matplotlib.axis.XTick at 0x11bdf23d0>,\n",
       " <matplotlib.axis.XTick at 0x11bdf23a0>,\n",
       " <matplotlib.axis.XTick at 0x11bde7b80>,\n",
       " <matplotlib.axis.XTick at 0x11f1b0250>,\n",
       " <matplotlib.axis.XTick at 0x11f1b09a0>,\n",
       " <matplotlib.axis.XTick at 0x11f1b5130>,\n",
       " <matplotlib.axis.XTick at 0x11f1b5880>]"
      ]
     },
     "execution_count": 87,
     "metadata": {},
     "output_type": "execute_result"
    },
    {
     "data": {
      "text/plain": [
       "Text(0.5, 0, 'Silhouette Coefficient')"
      ]
     },
     "execution_count": 87,
     "metadata": {},
     "output_type": "execute_result"
    },
    {
     "data": {
      "text/plain": [
       "<matplotlib.lines.Line2D at 0x11f1b5610>"
      ]
     },
     "execution_count": 87,
     "metadata": {},
     "output_type": "execute_result"
    },
    {
     "data": {
      "text/plain": [
       "Text(0.5, 1.0, '$k=6$')"
      ]
     },
     "execution_count": 87,
     "metadata": {},
     "output_type": "execute_result"
    },
    {
     "data": {
      "image/png": "[encoded data removed]",
      "text/plain": [
       "<Figure size 792x648 with 4 Axes>"
      ]
     },
     "metadata": {
      "needs_background": "light"
     },
     "output_type": "display_data"
    }
   ],
   "source": [
    "\n",
    "from sklearn.metrics import silhouette_samples\n",
    "from matplotlib.ticker import FixedLocator, FixedFormatter\n",
    "\n",
    "plt.figure(figsize=(11, 9))\n",
    "\n",
    "for k in (3, 4, 5, 6):\n",
    "    plt.subplot(2, 2, k - 2)\n",
    "    \n",
    "    y_pred = kmeans_per_k_2[k - 1].labels_\n",
    "    silhouette_coefficients = silhouette_samples(X_pca, y_pred)\n",
    "\n",
    "    padding = len(X_pca) // 30\n",
    "    pos = padding\n",
    "    ticks = []\n",
    "    for i in range(k):\n",
    "        coeffs = silhouette_coefficients[y_pred == i]\n",
    "        coeffs.sort()\n",
    "\n",
    "        color = plt.cm.Spectral(i / k)\n",
    "        plt.fill_betweenx(np.arange(pos, pos + len(coeffs)), 0, coeffs,\n",
    "                          facecolor=color, edgecolor=color, alpha=0.7)\n",
    "        ticks.append(pos + len(coeffs) // 2)\n",
    "        pos += len(coeffs) + padding\n",
    "\n",
    "    plt.gca().yaxis.set_major_locator(FixedLocator(ticks))\n",
    "    plt.gca().yaxis.set_major_formatter(FixedFormatter(range(k)))\n",
    "    if k in (3, 5):\n",
    "        plt.ylabel(\"Cluster\")\n",
    "    \n",
    "    if k in (5, 6):\n",
    "        plt.gca().set_xticks([-0.1, 0, 0.2, 0.4, 0.6, 0.8, 1])\n",
    "        plt.xlabel(\"Silhouette Coefficient\")\n",
    "    else:\n",
    "        plt.tick_params(labelbottom=False)\n",
    "\n",
    "    plt.axvline(x=silhouette_scores_2[k - 2], color=\"red\", linestyle=\"--\")\n",
    "    plt.title(f\"$k={k}$\")\n",
    "\n",
    "plt.show()"
   ]
  },
  {
   "cell_type": "markdown",
   "id": "0915b892",
   "metadata": {},
   "source": [
    "#### Choose k = 3"
   ]
  },
  {
   "cell_type": "markdown",
   "id": "fe3004da",
   "metadata": {},
   "source": [
    "### 15 PC "
   ]
  },
  {
   "cell_type": "code",
   "execution_count": 88,
   "id": "81de963b",
   "metadata": {},
   "outputs": [
    {
     "data": {
      "text/plain": [
       "0.3791311836133499"
      ]
     },
     "execution_count": 88,
     "metadata": {},
     "output_type": "execute_result"
    }
   ],
   "source": [
    "silhouette_score(X_pca_15, kmeans_15.labels_)"
   ]
  },
  {
   "cell_type": "code",
   "execution_count": 89,
   "id": "b7097b9d",
   "metadata": {},
   "outputs": [],
   "source": [
    "silhouette_scores = [silhouette_score(X_pca_15, kmeans_15.labels_)\n",
    "                     for model in kmeans_per_k[1:]]"
   ]
  },
  {
   "cell_type": "code",
   "execution_count": 90,
   "id": "7bd4233f",
   "metadata": {},
   "outputs": [
    {
     "data": {
      "text/plain": [
       "<Figure size 792x648 with 0 Axes>"
      ]
     },
     "execution_count": 90,
     "metadata": {},
     "output_type": "execute_result"
    },
    {
     "data": {
      "text/plain": [
       "<AxesSubplot:>"
      ]
     },
     "execution_count": 90,
     "metadata": {},
     "output_type": "execute_result"
    },
    {
     "data": {
      "text/plain": [
       "<matplotlib.collections.PolyCollection at 0x11f25abe0>"
      ]
     },
     "execution_count": 90,
     "metadata": {},
     "output_type": "execute_result"
    },
    {
     "data": {
      "text/plain": [
       "<matplotlib.collections.PolyCollection at 0x11f262f10>"
      ]
     },
     "execution_count": 90,
     "metadata": {},
     "output_type": "execute_result"
    },
    {
     "data": {
      "text/plain": [
       "<matplotlib.collections.PolyCollection at 0x11f235280>"
      ]
     },
     "execution_count": 90,
     "metadata": {},
     "output_type": "execute_result"
    },
    {
     "data": {
      "text/plain": [
       "<matplotlib.collections.PolyCollection at 0x11f235760>"
      ]
     },
     "execution_count": 90,
     "metadata": {},
     "output_type": "execute_result"
    },
    {
     "data": {
      "text/plain": [
       "<matplotlib.collections.PolyCollection at 0x11f235b20>"
      ]
     },
     "execution_count": 90,
     "metadata": {},
     "output_type": "execute_result"
    },
    {
     "data": {
      "text/plain": [
       "<matplotlib.collections.PolyCollection at 0x11f235e80>"
      ]
     },
     "execution_count": 90,
     "metadata": {},
     "output_type": "execute_result"
    },
    {
     "data": {
      "text/plain": [
       "<matplotlib.collections.PolyCollection at 0x11f29f250>"
      ]
     },
     "execution_count": 90,
     "metadata": {},
     "output_type": "execute_result"
    },
    {
     "data": {
      "text/plain": [
       "Text(0, 0.5, 'Cluster')"
      ]
     },
     "execution_count": 90,
     "metadata": {},
     "output_type": "execute_result"
    },
    {
     "data": {
      "text/plain": [
       "<matplotlib.lines.Line2D at 0x11f208850>"
      ]
     },
     "execution_count": 90,
     "metadata": {},
     "output_type": "execute_result"
    },
    {
     "data": {
      "text/plain": [
       "Text(0.5, 1.0, '$k=7$')"
      ]
     },
     "execution_count": 90,
     "metadata": {},
     "output_type": "execute_result"
    },
    {
     "data": {
      "text/plain": [
       "<AxesSubplot:>"
      ]
     },
     "execution_count": 90,
     "metadata": {},
     "output_type": "execute_result"
    },
    {
     "data": {
      "text/plain": [
       "<matplotlib.collections.PolyCollection at 0x11f0db430>"
      ]
     },
     "execution_count": 90,
     "metadata": {},
     "output_type": "execute_result"
    },
    {
     "data": {
      "text/plain": [
       "<matplotlib.collections.PolyCollection at 0x11f0e9790>"
      ]
     },
     "execution_count": 90,
     "metadata": {},
     "output_type": "execute_result"
    },
    {
     "data": {
      "text/plain": [
       "<matplotlib.collections.PolyCollection at 0x11f0e9b50>"
      ]
     },
     "execution_count": 90,
     "metadata": {},
     "output_type": "execute_result"
    },
    {
     "data": {
      "text/plain": [
       "<matplotlib.collections.PolyCollection at 0x11f0e9f10>"
      ]
     },
     "execution_count": 90,
     "metadata": {},
     "output_type": "execute_result"
    },
    {
     "data": {
      "text/plain": [
       "<matplotlib.collections.PolyCollection at 0x11f0fa310>"
      ]
     },
     "execution_count": 90,
     "metadata": {},
     "output_type": "execute_result"
    },
    {
     "data": {
      "text/plain": [
       "<matplotlib.collections.PolyCollection at 0x11f0fa7c0>"
      ]
     },
     "execution_count": 90,
     "metadata": {},
     "output_type": "execute_result"
    },
    {
     "data": {
      "text/plain": [
       "<matplotlib.collections.PolyCollection at 0x11f0fab20>"
      ]
     },
     "execution_count": 90,
     "metadata": {},
     "output_type": "execute_result"
    },
    {
     "data": {
      "text/plain": [
       "<matplotlib.collections.PolyCollection at 0x11f0fa760>"
      ]
     },
     "execution_count": 90,
     "metadata": {},
     "output_type": "execute_result"
    },
    {
     "data": {
      "text/plain": [
       "<matplotlib.lines.Line2D at 0x11f106250>"
      ]
     },
     "execution_count": 90,
     "metadata": {},
     "output_type": "execute_result"
    },
    {
     "data": {
      "text/plain": [
       "Text(0.5, 1.0, '$k=8$')"
      ]
     },
     "execution_count": 90,
     "metadata": {},
     "output_type": "execute_result"
    },
    {
     "data": {
      "text/plain": [
       "<AxesSubplot:>"
      ]
     },
     "execution_count": 90,
     "metadata": {},
     "output_type": "execute_result"
    },
    {
     "data": {
      "text/plain": [
       "<matplotlib.collections.PolyCollection at 0x11f106670>"
      ]
     },
     "execution_count": 90,
     "metadata": {},
     "output_type": "execute_result"
    },
    {
     "data": {
      "text/plain": [
       "<matplotlib.collections.PolyCollection at 0x11be50400>"
      ]
     },
     "execution_count": 90,
     "metadata": {},
     "output_type": "execute_result"
    },
    {
     "data": {
      "text/plain": [
       "<matplotlib.collections.PolyCollection at 0x11be0e6a0>"
      ]
     },
     "execution_count": 90,
     "metadata": {},
     "output_type": "execute_result"
    },
    {
     "data": {
      "text/plain": [
       "<matplotlib.collections.PolyCollection at 0x11fec2b20>"
      ]
     },
     "execution_count": 90,
     "metadata": {},
     "output_type": "execute_result"
    },
    {
     "data": {
      "text/plain": [
       "<matplotlib.collections.PolyCollection at 0x11f1f78e0>"
      ]
     },
     "execution_count": 90,
     "metadata": {},
     "output_type": "execute_result"
    },
    {
     "data": {
      "text/plain": [
       "<matplotlib.collections.PolyCollection at 0x11fef66a0>"
      ]
     },
     "execution_count": 90,
     "metadata": {},
     "output_type": "execute_result"
    },
    {
     "data": {
      "text/plain": [
       "<matplotlib.collections.PolyCollection at 0x120e00e80>"
      ]
     },
     "execution_count": 90,
     "metadata": {},
     "output_type": "execute_result"
    },
    {
     "data": {
      "text/plain": [
       "<matplotlib.collections.PolyCollection at 0x119ef1190>"
      ]
     },
     "execution_count": 90,
     "metadata": {},
     "output_type": "execute_result"
    },
    {
     "data": {
      "text/plain": [
       "<matplotlib.collections.PolyCollection at 0x11f122f40>"
      ]
     },
     "execution_count": 90,
     "metadata": {},
     "output_type": "execute_result"
    },
    {
     "data": {
      "text/plain": [
       "Text(0, 0.5, 'Cluster')"
      ]
     },
     "execution_count": 90,
     "metadata": {},
     "output_type": "execute_result"
    },
    {
     "data": {
      "text/plain": [
       "[<matplotlib.axis.XTick at 0x11f101c40>,\n",
       " <matplotlib.axis.XTick at 0x11f101c10>,\n",
       " <matplotlib.axis.XTick at 0x11f101340>,\n",
       " <matplotlib.axis.XTick at 0x11f12f9d0>,\n",
       " <matplotlib.axis.XTick at 0x11f145160>,\n",
       " <matplotlib.axis.XTick at 0x11f1458b0>,\n",
       " <matplotlib.axis.XTick at 0x11f141040>]"
      ]
     },
     "execution_count": 90,
     "metadata": {},
     "output_type": "execute_result"
    },
    {
     "data": {
      "text/plain": [
       "Text(0.5, 0, 'Silhouette Coefficient')"
      ]
     },
     "execution_count": 90,
     "metadata": {},
     "output_type": "execute_result"
    },
    {
     "data": {
      "text/plain": [
       "<matplotlib.lines.Line2D at 0x11f145910>"
      ]
     },
     "execution_count": 90,
     "metadata": {},
     "output_type": "execute_result"
    },
    {
     "data": {
      "text/plain": [
       "Text(0.5, 1.0, '$k=9$')"
      ]
     },
     "execution_count": 90,
     "metadata": {},
     "output_type": "execute_result"
    },
    {
     "data": {
      "text/plain": [
       "<AxesSubplot:>"
      ]
     },
     "execution_count": 90,
     "metadata": {},
     "output_type": "execute_result"
    },
    {
     "data": {
      "text/plain": [
       "<matplotlib.collections.PolyCollection at 0x11f2edb50>"
      ]
     },
     "execution_count": 90,
     "metadata": {},
     "output_type": "execute_result"
    },
    {
     "data": {
      "text/plain": [
       "<matplotlib.collections.PolyCollection at 0x11f119790>"
      ]
     },
     "execution_count": 90,
     "metadata": {},
     "output_type": "execute_result"
    },
    {
     "data": {
      "text/plain": [
       "<matplotlib.collections.PolyCollection at 0x11f303280>"
      ]
     },
     "execution_count": 90,
     "metadata": {},
     "output_type": "execute_result"
    },
    {
     "data": {
      "text/plain": [
       "<matplotlib.collections.PolyCollection at 0x11f3036d0>"
      ]
     },
     "execution_count": 90,
     "metadata": {},
     "output_type": "execute_result"
    },
    {
     "data": {
      "text/plain": [
       "<matplotlib.collections.PolyCollection at 0x11f303a90>"
      ]
     },
     "execution_count": 90,
     "metadata": {},
     "output_type": "execute_result"
    },
    {
     "data": {
      "text/plain": [
       "<matplotlib.collections.PolyCollection at 0x11f303df0>"
      ]
     },
     "execution_count": 90,
     "metadata": {},
     "output_type": "execute_result"
    },
    {
     "data": {
      "text/plain": [
       "<matplotlib.collections.PolyCollection at 0x11f3101c0>"
      ]
     },
     "execution_count": 90,
     "metadata": {},
     "output_type": "execute_result"
    },
    {
     "data": {
      "text/plain": [
       "<matplotlib.collections.PolyCollection at 0x11f310610>"
      ]
     },
     "execution_count": 90,
     "metadata": {},
     "output_type": "execute_result"
    },
    {
     "data": {
      "text/plain": [
       "<matplotlib.collections.PolyCollection at 0x11f310940>"
      ]
     },
     "execution_count": 90,
     "metadata": {},
     "output_type": "execute_result"
    },
    {
     "data": {
      "text/plain": [
       "<matplotlib.collections.PolyCollection at 0x11f310a60>"
      ]
     },
     "execution_count": 90,
     "metadata": {},
     "output_type": "execute_result"
    },
    {
     "data": {
      "text/plain": [
       "[<matplotlib.axis.XTick at 0x11f1528e0>,\n",
       " <matplotlib.axis.XTick at 0x11f1528b0>,\n",
       " <matplotlib.axis.XTick at 0x11f12f670>,\n",
       " <matplotlib.axis.XTick at 0x11f31e610>,\n",
       " <matplotlib.axis.XTick at 0x11f31ed60>,\n",
       " <matplotlib.axis.XTick at 0x11f39a4f0>,\n",
       " <matplotlib.axis.XTick at 0x11f31ed90>]"
      ]
     },
     "execution_count": 90,
     "metadata": {},
     "output_type": "execute_result"
    },
    {
     "data": {
      "text/plain": [
       "Text(0.5, 0, 'Silhouette Coefficient')"
      ]
     },
     "execution_count": 90,
     "metadata": {},
     "output_type": "execute_result"
    },
    {
     "data": {
      "text/plain": [
       "<matplotlib.lines.Line2D at 0x11f39a460>"
      ]
     },
     "execution_count": 90,
     "metadata": {},
     "output_type": "execute_result"
    },
    {
     "data": {
      "text/plain": [
       "Text(0.5, 1.0, '$k=10$')"
      ]
     },
     "execution_count": 90,
     "metadata": {},
     "output_type": "execute_result"
    },
    {
     "data": {
      "image/png": "[encoded data removed]",
      "text/plain": [
       "<Figure size 792x648 with 4 Axes>"
      ]
     },
     "metadata": {
      "needs_background": "light"
     },
     "output_type": "display_data"
    }
   ],
   "source": [
    "\n",
    "from sklearn.metrics import silhouette_samples\n",
    "from matplotlib.ticker import FixedLocator, FixedFormatter\n",
    "\n",
    "plt.figure(figsize=(11, 9))\n",
    "\n",
    "for k in (7, 8, 9, 10):\n",
    "    plt.subplot(3, 3, k - 2)\n",
    "    \n",
    "    y_pred = kmeans_per_k_15[k - 1].labels_\n",
    "    silhouette_coefficients = silhouette_samples(X_pca_15, y_pred)\n",
    "\n",
    "    padding = len(X_pca_15) // 30\n",
    "    pos = padding\n",
    "    ticks = []\n",
    "    for i in range(k):\n",
    "        coeffs = silhouette_coefficients[y_pred == i]\n",
    "        coeffs.sort()\n",
    "\n",
    "        color = plt.cm.Spectral(i / k)\n",
    "        plt.fill_betweenx(np.arange(pos, pos + len(coeffs)), 0, coeffs,\n",
    "                          facecolor=color, edgecolor=color, alpha=0.7)\n",
    "        ticks.append(pos + len(coeffs) // 2)\n",
    "        pos += len(coeffs) + padding\n",
    "\n",
    "    plt.gca().yaxis.set_major_locator(FixedLocator(ticks))\n",
    "    plt.gca().yaxis.set_major_formatter(FixedFormatter(range(k)))\n",
    "    if k in (7, 9):\n",
    "        plt.ylabel(\"Cluster\")\n",
    "    \n",
    "    if k in (9, 10):\n",
    "        plt.gca().set_xticks([-0.1, 0, 0.2, 0.4, 0.6, 0.8, 1])\n",
    "        plt.xlabel(\"Silhouette Coefficient\")\n",
    "    else:\n",
    "        plt.tick_params(labelbottom=False)\n",
    "\n",
    "    plt.axvline(x=silhouette_scores[k - 2], color=\"red\", linestyle=\"--\")\n",
    "    plt.title(f\"$k={k}$\")\n",
    "\n",
    "plt.show()"
   ]
  },
  {
   "cell_type": "markdown",
   "id": "4a08902f",
   "metadata": {},
   "source": [
    "#### Choose k = 9"
   ]
  },
  {
   "cell_type": "markdown",
   "id": "72d0b814",
   "metadata": {},
   "source": [
    "## Scores with Optimal Parameters"
   ]
  },
  {
   "cell_type": "code",
   "execution_count": 91,
   "id": "05bd7413",
   "metadata": {},
   "outputs": [],
   "source": [
    "kmeans_2 = KMeans(n_clusters = 3, random_state = 42, n_init = 500)\n",
    "y_pred_2 = kmeans_2.fit_predict(X_pca)\n",
    "\n",
    "kmeans_15 = KMeans(n_clusters = 9, random_state = 42, n_init = 500)\n",
    "y_pred_15 = kmeans_15.fit_predict(X_pca_15)"
   ]
  },
  {
   "cell_type": "code",
   "execution_count": 92,
   "id": "699e45dc",
   "metadata": {},
   "outputs": [
    {
     "data": {
      "text/plain": [
       "0.3671285742619118"
      ]
     },
     "execution_count": 92,
     "metadata": {},
     "output_type": "execute_result"
    },
    {
     "data": {
      "text/plain": [
       "0.10412069650857773"
      ]
     },
     "execution_count": 92,
     "metadata": {},
     "output_type": "execute_result"
    }
   ],
   "source": [
    "from sklearn.metrics import roc_auc_score\n",
    "#when 2 dimensions\n",
    "roc_auc_score(y_train, y_pred_2)\n",
    "\n",
    "#when 10 dimensions\n",
    "roc_auc_score(y_train, y_pred_15)"
   ]
  },
  {
   "cell_type": "code",
   "execution_count": 93,
   "id": "9ac23bc3",
   "metadata": {},
   "outputs": [
    {
     "data": {
      "text/plain": [
       "-6046.1040572107295"
      ]
     },
     "execution_count": 93,
     "metadata": {},
     "output_type": "execute_result"
    },
    {
     "data": {
      "text/plain": [
       "-28777.531381634697"
      ]
     },
     "execution_count": 93,
     "metadata": {},
     "output_type": "execute_result"
    }
   ],
   "source": [
    "#when 2 dimensions\n",
    "kmeans_2.score(X_pca)\n",
    "\n",
    "#when 10 dimensions\n",
    "kmeans_15.score(X_pca_15)"
   ]
  },
  {
   "cell_type": "markdown",
   "id": "de3b9ed0",
   "metadata": {},
   "source": [
    "## PCA n_component = 2, k = 3 Cluster Analysis"
   ]
  },
  {
   "cell_type": "code",
   "execution_count": 94,
   "id": "8230450f",
   "metadata": {},
   "outputs": [
    {
     "data": {
      "text/plain": [
       "<Figure size 576x288 with 0 Axes>"
      ]
     },
     "execution_count": 94,
     "metadata": {},
     "output_type": "execute_result"
    },
    {
     "data": {
      "image/png": "[encoded data removed]",
      "text/plain": [
       "<Figure size 576x288 with 1 Axes>"
      ]
     },
     "metadata": {
      "needs_background": "light"
     },
     "output_type": "display_data"
    }
   ],
   "source": [
    "# HOML, Figure 9–2\n",
    "def plot_clusters(X_pca, y=None):\n",
    "    plt.scatter(X_pca[y_pred_2 == 0,0], X_pca[y_pred_2 == 0,1], c='red', s=10, label = 'not edible')\n",
    "    plt.scatter(X_pca[y_pred_2 == 1,0], X_pca[y_pred_2 == 1,1], c='blue', s=10, label = 'edible')\n",
    "    plt.xlabel(\"$x_1$\")\n",
    "    plt.ylabel(\"$x_2$\", rotation=0)\n",
    "    plt.legend()\n",
    "\n",
    "plt.figure(figsize=(8, 4))\n",
    "#plt.xlim(-7.5,10)\n",
    "#plt.ylim(-4,8)\n",
    "plot_clusters(X_pca)\n",
    "plt.gca().set_axisbelow(True)\n",
    "plt.grid()\n",
    "plt.show()"
   ]
  },
  {
   "cell_type": "markdown",
   "id": "c791a7b0",
   "metadata": {},
   "source": [
    "#### Very distinct and dense clusters with few outliers might explain high forrest scores"
   ]
  },
  {
   "cell_type": "markdown",
   "id": "ecc8169c",
   "metadata": {},
   "source": [
    "## PCA n_component = 2, k = 3 Decision Boundaries"
   ]
  },
  {
   "cell_type": "code",
   "execution_count": 95,
   "id": "9a7e9827",
   "metadata": {},
   "outputs": [
    {
     "data": {
      "text/plain": [
       "KMeans(n_clusters=2, random_state=42)"
      ]
     },
     "execution_count": 95,
     "metadata": {},
     "output_type": "execute_result"
    },
    {
     "data": {
      "text/plain": [
       "KMeans(n_clusters=3, random_state=42)"
      ]
     },
     "execution_count": 95,
     "metadata": {},
     "output_type": "execute_result"
    },
    {
     "data": {
      "text/plain": [
       "KMeans(n_clusters=4, random_state=42)"
      ]
     },
     "execution_count": 95,
     "metadata": {},
     "output_type": "execute_result"
    },
    {
     "data": {
      "text/plain": [
       "<Figure size 720x576 with 0 Axes>"
      ]
     },
     "execution_count": 95,
     "metadata": {},
     "output_type": "execute_result"
    },
    {
     "data": {
      "text/plain": [
       "<AxesSubplot:>"
      ]
     },
     "execution_count": 95,
     "metadata": {},
     "output_type": "execute_result"
    },
    {
     "data": {
      "text/plain": [
       "Text(0, 0.5, '$x_2$')"
      ]
     },
     "execution_count": 95,
     "metadata": {},
     "output_type": "execute_result"
    },
    {
     "data": {
      "text/plain": [
       "Text(0.5, 1.0, 'Results')"
      ]
     },
     "execution_count": 95,
     "metadata": {},
     "output_type": "execute_result"
    },
    {
     "data": {
      "text/plain": [
       "<Figure size 720x576 with 0 Axes>"
      ]
     },
     "execution_count": 95,
     "metadata": {},
     "output_type": "execute_result"
    },
    {
     "data": {
      "text/plain": [
       "<AxesSubplot:>"
      ]
     },
     "execution_count": 95,
     "metadata": {},
     "output_type": "execute_result"
    },
    {
     "data": {
      "text/plain": [
       "Text(0, 0.5, '$x_2$')"
      ]
     },
     "execution_count": 95,
     "metadata": {},
     "output_type": "execute_result"
    },
    {
     "data": {
      "text/plain": [
       "Text(0.5, 1.0, 'Results')"
      ]
     },
     "execution_count": 95,
     "metadata": {},
     "output_type": "execute_result"
    },
    {
     "data": {
      "text/plain": [
       "<Figure size 720x576 with 0 Axes>"
      ]
     },
     "execution_count": 95,
     "metadata": {},
     "output_type": "execute_result"
    },
    {
     "data": {
      "text/plain": [
       "<AxesSubplot:>"
      ]
     },
     "execution_count": 95,
     "metadata": {},
     "output_type": "execute_result"
    },
    {
     "data": {
      "text/plain": [
       "Text(0, 0.5, '$x_2$')"
      ]
     },
     "execution_count": 95,
     "metadata": {},
     "output_type": "execute_result"
    },
    {
     "data": {
      "text/plain": [
       "Text(0.5, 1.0, 'Results')"
      ]
     },
     "execution_count": 95,
     "metadata": {},
     "output_type": "execute_result"
    },
    {
     "data": {
      "image/png": "[encoded data removed]",
      "text/plain": [
       "<Figure size 720x576 with 1 Axes>"
      ]
     },
     "metadata": {},
     "output_type": "display_data"
    },
    {
     "data": {
      "image/png": "[encoded data removed]",
      "text/plain": [
       "<Figure size 720x576 with 1 Axes>"
      ]
     },
     "metadata": {},
     "output_type": "display_data"
    },
    {
     "data": {
      "image/png": "[encoded data removed]",
      "text/plain": [
       "<Figure size 720x576 with 1 Axes>"
      ]
     },
     "metadata": {},
     "output_type": "display_data"
    }
   ],
   "source": [
    "def plot_data(X_pca):\n",
    "    plt.plot(X_pca[:, 0], X_pca[:, 1], 'k.', markersize=2)\n",
    "\n",
    "def plot_centroids(centroids, weights=None, circle_color='w', cross_color='k'):\n",
    "    if weights is not None:\n",
    "        centroids = centroids[weights > weights.max() / 10]\n",
    "    plt.scatter(centroids[:, 0], centroids[:, 1],\n",
    "                marker='o', s=35, linewidths=8,\n",
    "                color=circle_color, zorder=10, alpha=0.9)\n",
    "    plt.scatter(centroids[:, 0], centroids[:, 1],\n",
    "                marker='x', s=2, linewidths=12,\n",
    "                color=cross_color, zorder=11, alpha=1)\n",
    "\n",
    "def plot_decision_boundaries(clusterer, X, resolution=1000, show_centroids=True,\n",
    "                             show_xlabels=True, show_ylabels=True):\n",
    "    mins = X.min(axis=0) - 0.1\n",
    "    maxs = X.max(axis=0) + 0.1\n",
    "    xx, yy = np.meshgrid(np.linspace(mins[0], maxs[0], resolution),\n",
    "                         np.linspace(mins[1], maxs[1], resolution))\n",
    "    Z = clusterer.predict(np.c_[xx.ravel(), yy.ravel()])\n",
    "    Z = Z.reshape(xx.shape)\n",
    "\n",
    "    plt.contourf(Z, extent=(mins[0], maxs[0], mins[1], maxs[1]),\n",
    "                cmap=\"Pastel2\")\n",
    "    plt.contour(Z, extent=(mins[0], maxs[0], mins[1], maxs[1]),\n",
    "                linewidths=1, colors='k')\n",
    "    plot_data(X_pca)\n",
    "    if show_centroids:\n",
    "        plot_centroids(clusterer.cluster_centers_)\n",
    "\n",
    "    if show_xlabels:\n",
    "        plt.xlabel(\"$x_1$\")\n",
    "    else:\n",
    "        plt.tick_params(labelbottom=False)\n",
    "    if show_ylabels:\n",
    "        plt.ylabel(\"$x_2$\", rotation=0)\n",
    "    else:\n",
    "        plt.tick_params(labelleft=False)\n",
    "\n",
    "# HOML, Figure 9–4\n",
    "kmeans_iter1 = KMeans(n_clusters=2, n_init=10, random_state=42)\n",
    "kmeans_iter1.fit(X_pca)\n",
    "\n",
    "kmeans_iter2 = KMeans(n_clusters=3, n_init=10, random_state=42)\n",
    "kmeans_iter2.fit(X_pca)\n",
    "\n",
    "kmeans_iter3 = KMeans(n_clusters=4, n_init=10, random_state=42)\n",
    "kmeans_iter3.fit(X_pca)\n",
    "\n",
    "plt.figure(figsize=(10, 8))\n",
    "\n",
    "plt.subplot(321)\n",
    "plot_data(X_pca)\n",
    "plot_centroids(kmeans_iter1.cluster_centers_, circle_color='r', cross_color='w')\n",
    "plot_decision_boundaries(kmeans_iter1, X_pca, show_xlabels=False,\n",
    "                         show_ylabels=False)\n",
    "plt.ylabel(\"$x_2$\", rotation=0)\n",
    "plt.tick_params(labelbottom=False)\n",
    "plt.title(\"Results\")\n",
    "\n",
    "plt.figure(figsize=(10, 8))\n",
    "\n",
    "plt.subplot(321)\n",
    "plot_data(X_pca)\n",
    "plot_centroids(kmeans_iter2.cluster_centers_, circle_color='r', cross_color='w')\n",
    "plot_decision_boundaries(kmeans_iter2, X_pca, show_xlabels=False,\n",
    "                         show_ylabels=False)\n",
    "plt.ylabel(\"$x_2$\", rotation=0)\n",
    "plt.tick_params(labelbottom=False)\n",
    "plt.title(\"Results\")\n",
    "\n",
    "plt.figure(figsize=(10, 8))\n",
    "\n",
    "plt.subplot(321)\n",
    "plot_data(X_pca)\n",
    "plot_centroids(kmeans_iter3.cluster_centers_, circle_color='r', cross_color='w')\n",
    "plot_decision_boundaries(kmeans_iter3, X_pca, show_xlabels=False,\n",
    "                         show_ylabels=False)\n",
    "plt.ylabel(\"$x_2$\", rotation=0)\n",
    "plt.tick_params(labelbottom=False)\n",
    "plt.title(\"Results\")"
   ]
  },
  {
   "cell_type": "markdown",
   "id": "4878c5c1",
   "metadata": {},
   "source": [
    "## Test Score PC 15"
   ]
  },
  {
   "cell_type": "code",
   "execution_count": 96,
   "id": "7fa01101",
   "metadata": {},
   "outputs": [],
   "source": [
    "X_train_pca = pca_15.fit_transform(X_train)\n",
    "X_test_pca = pca_15.transform(X_test)"
   ]
  },
  {
   "cell_type": "code",
   "execution_count": 97,
   "id": "83b88ae9",
   "metadata": {},
   "outputs": [
    {
     "data": {
      "text/plain": [
       "RandomForestClassifier()"
      ]
     },
     "execution_count": 97,
     "metadata": {},
     "output_type": "execute_result"
    },
    {
     "data": {
      "text/plain": [
       "0.9982285208148804"
      ]
     },
     "execution_count": 97,
     "metadata": {},
     "output_type": "execute_result"
    }
   ],
   "source": [
    "X_train_reduced = kmeans_15.transform(X_train_pca)\n",
    "X_test_reduced = kmeans_15.transform(X_test_pca)\n",
    "\n",
    "forest = RandomForestClassifier()\n",
    "forest.fit(X_train_reduced, y_train)\n",
    "\n",
    "forest.score(X_test_reduced, y_test)"
   ]
  },
  {
   "cell_type": "markdown",
   "id": "7c2306e8",
   "metadata": {},
   "source": [
    "## Test Score PC 2"
   ]
  },
  {
   "cell_type": "code",
   "execution_count": 98,
   "id": "362be08d",
   "metadata": {},
   "outputs": [],
   "source": [
    "X_train_pca = pca.fit_transform(X_train)\n",
    "X_test_pca = pca.transform(X_test)"
   ]
  },
  {
   "cell_type": "code",
   "execution_count": 99,
   "id": "4c5b387a",
   "metadata": {},
   "outputs": [
    {
     "data": {
      "text/plain": [
       "RandomForestClassifier()"
      ]
     },
     "execution_count": 99,
     "metadata": {},
     "output_type": "execute_result"
    },
    {
     "data": {
      "text/plain": [
       "0.9255978742249779"
      ]
     },
     "execution_count": 99,
     "metadata": {},
     "output_type": "execute_result"
    }
   ],
   "source": [
    "X_train_reduced = kmeans_2.transform(X_train_pca)\n",
    "X_test_reduced = kmeans_2.transform(X_test_pca)\n",
    "\n",
    "forest = RandomForestClassifier()\n",
    "forest.fit(X_train_reduced, y_train)\n",
    "\n",
    "forest.score(X_test_reduced, y_test)"
   ]
  }
 ],
 "metadata": {
  "kernelspec": {
   "display_name": "Python 3 (ipykernel)",
   "language": "python",
   "name": "python3"
  },
  "language_info": {
   "codemirror_mode": {
    "name": "ipython",
    "version": 3
   },
   "file_extension": ".py",
   "mimetype": "text/x-python",
   "name": "python",
   "nbconvert_exporter": "python",
   "pygments_lexer": "ipython3",
   "version": "3.10.8"
  },
  "toc": {
   "base_numbering": 1,
   "nav_menu": {},
   "number_sections": true,
   "sideBar": true,
   "skip_h1_title": false,
   "title_cell": "Table of Contents",
   "title_sidebar": "Contents",
   "toc_cell": false,
   "toc_position": {},
   "toc_section_display": true,
   "toc_window_display": false
  }
 },
 "nbformat": 4,
 "nbformat_minor": 5
}
